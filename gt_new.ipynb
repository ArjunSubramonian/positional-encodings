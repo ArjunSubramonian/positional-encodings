{
 "cells": [
  {
   "cell_type": "code",
   "execution_count": 1,
   "metadata": {},
   "outputs": [
    {
     "name": "stderr",
     "output_type": "stream",
     "text": [
      "RDKit WARNING: [20:11:48] Enabling RDKit 2019.09.3 jupyter extensions\n",
      "In /opt/conda/lib/python3.6/site-packages/matplotlib/mpl-data/stylelib/_classic_test.mplstyle: \n",
      "The text.latex.preview rcparam was deprecated in Matplotlib 3.3 and will be removed two minor releases later.\n",
      "In /opt/conda/lib/python3.6/site-packages/matplotlib/mpl-data/stylelib/_classic_test.mplstyle: \n",
      "The mathtext.fallback_to_cm rcparam was deprecated in Matplotlib 3.3 and will be removed two minor releases later.\n",
      "In /opt/conda/lib/python3.6/site-packages/matplotlib/mpl-data/stylelib/_classic_test.mplstyle: Support for setting the 'mathtext.fallback_to_cm' rcParam is deprecated since 3.3 and will be removed two minor releases later; use 'mathtext.fallback : 'cm' instead.\n",
      "In /opt/conda/lib/python3.6/site-packages/matplotlib/mpl-data/stylelib/_classic_test.mplstyle: \n",
      "The validate_bool_maybe_none function was deprecated in Matplotlib 3.3 and will be removed two minor releases later.\n",
      "In /opt/conda/lib/python3.6/site-packages/matplotlib/mpl-data/stylelib/_classic_test.mplstyle: \n",
      "The savefig.jpeg_quality rcparam was deprecated in Matplotlib 3.3 and will be removed two minor releases later.\n",
      "In /opt/conda/lib/python3.6/site-packages/matplotlib/mpl-data/stylelib/_classic_test.mplstyle: \n",
      "The keymap.all_axes rcparam was deprecated in Matplotlib 3.3 and will be removed two minor releases later.\n",
      "In /opt/conda/lib/python3.6/site-packages/matplotlib/mpl-data/stylelib/_classic_test.mplstyle: \n",
      "The animation.avconv_path rcparam was deprecated in Matplotlib 3.3 and will be removed two minor releases later.\n",
      "In /opt/conda/lib/python3.6/site-packages/matplotlib/mpl-data/stylelib/_classic_test.mplstyle: \n",
      "The animation.avconv_args rcparam was deprecated in Matplotlib 3.3 and will be removed two minor releases later.\n"
     ]
    },
    {
     "name": "stdout",
     "output_type": "stream",
     "text": [
      "device: cuda\n"
     ]
    }
   ],
   "source": [
    "import os\n",
    "os.environ[\"CUDA_DEVICE_ORDER\"]=\"PCI_BUS_ID\"\n",
    "os.environ[\"CUDA_VISIBLE_DEVICES\"]=\"0\"\n",
    "\n",
    "import torch\n",
    "import torch.nn as nn\n",
    "from torch_geometric.data import DataLoader\n",
    "import argparse\n",
    "import numpy as np\n",
    "import random\n",
    "import ogb\n",
    "from ogb.graphproppred import PygGraphPropPredDataset, Evaluator\n",
    "import torch.nn.functional as F\n",
    "from graph_transformer import GT\n",
    "import os\n",
    "import datetime\n",
    "from tqdm import tqdm\n",
    "\n",
    "parser = argparse.ArgumentParser(description='PyTorch implementation of relative positional encodings and relation-aware self-attention for graph Transformers')\n",
    "args = parser.parse_args(\"\")\n",
    "args.device = torch.device('cuda' if torch.cuda.is_available() else 'cpu')\n",
    "print(\"device:\", args.device)"
   ]
  },
  {
   "cell_type": "code",
   "execution_count": 2,
   "metadata": {},
   "outputs": [],
   "source": [
    "args.dataset = 'ogbg-molhiv'\n",
    "args.n_classes = 1\n",
    "args.lr = 2e-4\n",
    "args.n_hid = 512\n",
    "args.n_heads = 8\n",
    "args.n_layer = 4\n",
    "args.dropout = 0.2\n",
    "args.num_epochs = 100\n",
    "args.k_hop_neighbors = 3\n",
    "args.weight_decay = 1e-2\n",
    "args.node_dim = 9\n",
    "args.edge_dim = 3\n",
    "args.bsz      = 128"
   ]
  },
  {
   "cell_type": "code",
   "execution_count": 3,
   "metadata": {},
   "outputs": [],
   "source": [
    "import torch\n",
    "from networkx.algorithms.shortest_paths.generic import shortest_path\n",
    "from networkx.algorithms.approximation.connectivity import all_pairs_node_connectivity\n",
    "from networkx.algorithms.clique import node_clique_number\n",
    "from networkx.algorithms.centrality import betweenness_centrality, edge_betweenness_centrality\n",
    "from torch_geometric.utils.convert import to_networkx\n",
    "from torch_geometric.data import Data\n",
    "from torch_geometric.utils import to_dense_adj, dense_to_sparse\n",
    "\n",
    "def pre_process(d):\n",
    "    node_size = d.x.size(0)\n",
    "    #     TODO: add summary node that connects to all the other nodes.\n",
    "    \n",
    "    #     Construct networkX type of original graph for different metrics\n",
    "    d_nx = to_networkx(d, to_undirected=True)\n",
    "    \n",
    "    #     Augment the graph to be K-hop graph\n",
    "    dense_orig_adj = to_dense_adj(d.edge_index, max_num_nodes=node_size).squeeze(dim=0)\n",
    "    for k in range(args.k_hop_neighbors):\n",
    "        dense_orig_adj = F.hardtanh(torch.mm(dense_orig_adj, dense_orig_adj))\n",
    "    d.edge_index = dense_to_sparse(dense_orig_adj)[0]\n",
    "    \n",
    "    #     Calculate structural feature by the ORIGNAL graph, add them to new edge set.\n",
    "    sd_edge_attr = shortest_distances(d_nx, d.edge_index)\n",
    "    cn_edge_attr = node_connectivity(d_nx, d.edge_index)\n",
    "    return Data(x=d.x, y=d.y, edge_index=d.edge_index, edge_attr=d.edge_attr, \\\n",
    "         sd_edge_attr=sd_edge_attr, cn_edge_attr=cn_edge_attr)\n",
    "    \n",
    "def shortest_distances(d_nx, edge_index):\n",
    "    edge_attr = []\n",
    "    p = shortest_path(d_nx)\n",
    "    for s, t in edge_index.t().tolist():\n",
    "        if s in p and t in p[s]:\n",
    "            edge_attr += [len(p[s][t]) - 1]\n",
    "        else:\n",
    "            edge_attr += [0]\n",
    "        \n",
    "    return torch.LongTensor(edge_attr)\n",
    "\n",
    "def node_connectivity(d_nx, edge_index):\n",
    "    edge_attr = []\n",
    "    p = all_pairs_node_connectivity(d_nx)\n",
    "    for s, t in edge_index.t().tolist():\n",
    "        if s in p and t in p[s]:\n",
    "            edge_attr += [p[s][t]]\n",
    "        else:\n",
    "            edge_attr += [0]\n",
    "    return torch.LongTensor(edge_attr)\n",
    "\n",
    "def get_n_params(model):\n",
    "    pp=0\n",
    "    for p in list(model.parameters()):\n",
    "        nn=1\n",
    "        for s in list(p.size()):\n",
    "            nn = nn*s\n",
    "        pp += nn\n",
    "    return pp"
   ]
  },
  {
   "cell_type": "code",
   "execution_count": null,
   "metadata": {},
   "outputs": [],
   "source": []
  },
  {
   "cell_type": "code",
   "execution_count": 4,
   "metadata": {},
   "outputs": [],
   "source": [
    "import torch\n",
    "import torch.nn as nn\n",
    "import torch.nn.functional as F\n",
    "from torch.autograd import Variable\n",
    "from torch_geometric.nn import GCNConv, GATConv\n",
    "from torch_geometric.nn.conv import MessagePassing\n",
    "from torch_geometric.nn.inits import glorot, uniform\n",
    "from torch_geometric.utils import softmax\n",
    "from ogb.graphproppred.mol_encoder import AtomEncoder, BondEncoder\n",
    "import math\n",
    "from torch_geometric.nn import global_mean_pool\n",
    "\n",
    "\n",
    "class RelEncoding(nn.Module):\n",
    "    def __init__(self, n_hid, max_len = 240, dropout = 0.2):\n",
    "        super(RelEncoding, self).__init__()\n",
    "        self.emb = nn.Embedding(max_len, n_hid)\n",
    "        self.drop = nn.Dropout(dropout)\n",
    "        self.emb.weight.data.uniform_(-0.1, 0.1)\n",
    "    def forward(self, t):\n",
    "        return self.drop(self.emb(t))\n",
    "\n",
    "class GT(nn.Module):\n",
    "    def __init__(self, n_hid, n_out, n_heads, n_layers, edge_dim_dict, dropout = 0.2):\n",
    "        super(GT, self).__init__()\n",
    "        self.node_encoder = AtomEncoder(emb_dim=n_hid)\n",
    "        self.n_hid     = n_hid\n",
    "        self.n_out     = n_out\n",
    "        self.drop      = nn.Dropout(dropout)\n",
    "        self.gcs       = nn.ModuleList([GT_Layer(n_hid, n_heads, edge_dim_dict, dropout)\\\n",
    "                                      for _ in range(n_layers)])\n",
    "        self.out       = nn.Linear(n_hid, n_out)\n",
    "\n",
    "    def forward(self, node_attr, edge_index, cn_edge_attr, sd_edge_attr, batch_idx):\n",
    "        node_rep = self.node_encoder(node_attr)\n",
    "        for gc in self.gcs:\n",
    "            node_rep = gc(node_rep, edge_index, cn_edge_attr, sd_edge_attr)\n",
    "        return self.out(global_mean_pool(node_rep, batch_idx))  \n",
    "\n",
    "class GT_Layer(MessagePassing):\n",
    "    def __init__(self, n_hid, n_heads, edge_dim_dict, dropout = 0.2, **kwargs):\n",
    "        super(GT_Layer, self).__init__(node_dim=0, aggr='add', **kwargs)\n",
    "\n",
    "        self.n_hid         = n_hid\n",
    "        self.n_heads       = n_heads\n",
    "        self.d_k           = n_hid // n_heads\n",
    "        self.sqrt_dk       = math.sqrt(self.d_k)\n",
    "        self.att           = None\n",
    "        \n",
    "        \n",
    "        self.k_linear   = nn.Linear(n_hid,   n_hid)\n",
    "        self.q_linear   = nn.Linear(n_hid,   n_hid)\n",
    "        self.v_linear   = nn.Linear(n_hid,   n_hid)\n",
    "        self.a_linear   = nn.Linear(n_hid,   n_hid)\n",
    "        self.norm       = nn.LayerNorm(n_hid)\n",
    "        self.drop       = nn.Dropout(dropout)\n",
    "        \n",
    "        self.struc_enc = nn.ModuleDict({\n",
    "            key : RelEncoding(max_len = edge_dim_dict[key], n_hid = n_hid, dropout = dropout)\n",
    "                for key in edge_dim_dict\n",
    "        })\n",
    "        \n",
    "        self.mid_linear  = nn.Linear(n_hid,  n_hid * 2)\n",
    "        self.out_linear  = nn.Linear(n_hid * 2,  n_hid)\n",
    "        self.out_norm    = nn.LayerNorm(n_hid)\n",
    "        \n",
    "    def forward(self, node_inp, edge_index, cn_edge_attr, sd_edge_attr):\n",
    "        return self.propagate(edge_index, node_inp=node_inp, \\\n",
    "                              cn_edge_attr = cn_edge_attr, sd_edge_attr = sd_edge_attr)\n",
    "\n",
    "    def message(self, edge_index_i, node_inp_i, node_inp_j, cn_edge_attr, sd_edge_attr):\n",
    "        '''\n",
    "            j: source, i: target; <j, i>\n",
    "        '''\n",
    "        data_size = edge_index_i.size(0)\n",
    "        '''\n",
    "            Create Attention and Message tensor beforehand.\n",
    "        '''\n",
    "                \n",
    "        target_node_vec = node_inp_i\n",
    "        source_node_vec = node_inp_j + self.struc_enc['cn'](cn_edge_attr) + self.struc_enc['sd'](sd_edge_attr)\n",
    "\n",
    "        q_mat = self.q_linear(target_node_vec).view(-1, self.n_heads, self.d_k)\n",
    "        k_mat = self.k_linear(source_node_vec).view(-1, self.n_heads, self.d_k)\n",
    "        v_mat = self.v_linear(source_node_vec).view(-1, self.n_heads, self.d_k)\n",
    "        \n",
    "        '''\n",
    "            Softmax based on target node's id (edge_index_i). Store attention value in self.att for later visualization.\n",
    "        '''\n",
    "        self.att = self.dropout(softmax((q_mat * k_mat).sum(dim=-1) / self.sqrt_dk, edge_index_i))\n",
    "        res = v_mat * self.att.view(-1, self.n_heads, 1)\n",
    "        return res.view(-1, self.n_hid)\n",
    "\n",
    "\n",
    "    def update(self, aggr_out, node_inp):\n",
    "        trans_out = self.norm(self.drop(self.a_linear(F.gelu(aggr_out))) + node_inp)\n",
    "        trans_out = self.out_norm(self.drop(self.out_linear(F.gelu(self.mid_linear(trans_out)))) + trans_out)\n",
    "        return trans_out"
   ]
  },
  {
   "cell_type": "code",
   "execution_count": null,
   "metadata": {},
   "outputs": [],
   "source": []
  },
  {
   "cell_type": "code",
   "execution_count": 5,
   "metadata": {},
   "outputs": [
    {
     "name": "stdout",
     "output_type": "stream",
     "text": [
      "Loading data...\n",
      "dataset: ogbg-molhiv \n"
     ]
    }
   ],
   "source": [
    "print(\"Loading data...\")\n",
    "print(\"dataset: {} \".format(args.dataset))\n",
    "dataset = PygGraphPropPredDataset(name=args.dataset, pre_transform=pre_process)\n",
    "evaluator = Evaluator(name=args.dataset)\n",
    "split_idx = dataset.get_idx_split()\n",
    "edge_dim_dict = {'sd': dataset.data.sd_edge_attr.max().int().item() + 1, \\\n",
    "                 'cn': dataset.data.cn_edge_attr.max().int().item() + 1}\n",
    "model = GT(args.n_hid, args.n_classes, args.n_heads, args.n_layer, edge_dim_dict, args.dropout).to(args.device)"
   ]
  },
  {
   "cell_type": "code",
   "execution_count": null,
   "metadata": {},
   "outputs": [],
   "source": []
  },
  {
   "cell_type": "code",
   "execution_count": 6,
   "metadata": {},
   "outputs": [],
   "source": [
    "from transformers.optimization import AdamW\n",
    "def get_optimizer(model: nn.Module, learning_rate: float = 1e-4, adam_eps: float = 1e-6,\n",
    "                  weight_decay: float = 0.0, ) -> torch.optim.Optimizer:\n",
    "    no_decay = ['bias', 'LayerNorm.weight']\n",
    "\n",
    "    optimizer_grouped_parameters = [\n",
    "        {'params': [p for n, p in model.named_parameters() if not any(nd in n for nd in no_decay)],\n",
    "         'weight_decay': weight_decay},\n",
    "        {'params': [p for n, p in model.named_parameters() if any(nd in n for nd in no_decay)], 'weight_decay': 0.0}\n",
    "    ]\n",
    "    optimizer = AdamW(optimizer_grouped_parameters, lr=learning_rate, eps=adam_eps)\n",
    "    return optimizer"
   ]
  },
  {
   "cell_type": "code",
   "execution_count": 7,
   "metadata": {},
   "outputs": [
    {
     "name": "stdout",
     "output_type": "stream",
     "text": [
      "Model #Params: 8530945\n"
     ]
    }
   ],
   "source": [
    "print('Model #Params: %d' % get_n_params(model))\n",
    "\n",
    "criterion = torch.nn.BCEWithLogitsLoss(reduction = \"mean\")\n",
    "\n",
    "optimizer = get_optimizer(model, weight_decay = args.weight_decay)\n",
    "\n",
    "train_loader = DataLoader(dataset[split_idx[\"train\"]], batch_size=args.bsz, shuffle=True)\n",
    "valid_loader = DataLoader(dataset[split_idx[\"valid\"]], batch_size=args.bsz, shuffle=False)\n",
    "test_loader  = DataLoader(dataset[split_idx[\"test\"]],  batch_size=args.bsz, shuffle=False)\n",
    "\n",
    "scheduler = torch.optim.lr_scheduler.OneCycleLR(optimizer, max_lr=args.lr, pct_start = 0.05,\\\n",
    "        steps_per_epoch=len(train_loader), epochs = args.num_epochs, anneal_strategy = 'linear')"
   ]
  },
  {
   "cell_type": "code",
   "execution_count": null,
   "metadata": {},
   "outputs": [
    {
     "name": "stderr",
     "output_type": "stream",
     "text": [
      "100%|██████████| 258/258 [00:58<00:00,  4.42it/s]\n",
      "  0%|          | 0/258 [00:00<?, ?it/s]"
     ]
    },
    {
     "name": "stdout",
     "output_type": "stream",
     "text": [
      "Epoch 0: LR: 0.00005, Train loss: 0.171 Valid loss: 0.101  Valid ROC-AUC: 0.659 Test loss: 0.136  Test ROC-AUC: 0.642\n"
     ]
    },
    {
     "name": "stderr",
     "output_type": "stream",
     "text": [
      "100%|██████████| 258/258 [00:53<00:00,  4.79it/s]\n",
      "  0%|          | 0/258 [00:00<?, ?it/s]"
     ]
    },
    {
     "name": "stdout",
     "output_type": "stream",
     "text": [
      "Epoch 1: LR: 0.00008, Train loss: 0.152 Valid loss: 0.087  Valid ROC-AUC: 0.718 Test loss: 0.127  Test ROC-AUC: 0.671\n"
     ]
    },
    {
     "name": "stderr",
     "output_type": "stream",
     "text": [
      "100%|██████████| 258/258 [00:53<00:00,  4.82it/s]\n",
      "  0%|          | 0/258 [00:00<?, ?it/s]"
     ]
    },
    {
     "name": "stdout",
     "output_type": "stream",
     "text": [
      "Epoch 2: LR: 0.00012, Train loss: 0.141 Valid loss: 0.120  Valid ROC-AUC: 0.701 Test loss: 0.147  Test ROC-AUC: 0.713\n"
     ]
    },
    {
     "name": "stderr",
     "output_type": "stream",
     "text": [
      "100%|██████████| 258/258 [00:53<00:00,  4.78it/s]\n",
      "  0%|          | 0/258 [00:00<?, ?it/s]"
     ]
    },
    {
     "name": "stdout",
     "output_type": "stream",
     "text": [
      "Epoch 3: LR: 0.00016, Train loss: 0.136 Valid loss: 0.081  Valid ROC-AUC: 0.778 Test loss: 0.121  Test ROC-AUC: 0.745\n"
     ]
    },
    {
     "name": "stderr",
     "output_type": "stream",
     "text": [
      "100%|██████████| 258/258 [00:53<00:00,  4.85it/s]\n",
      "  0%|          | 0/258 [00:00<?, ?it/s]"
     ]
    },
    {
     "name": "stdout",
     "output_type": "stream",
     "text": [
      "Epoch 4: LR: 0.00020, Train loss: 0.131 Valid loss: 0.080  Valid ROC-AUC: 0.802 Test loss: 0.127  Test ROC-AUC: 0.776\n"
     ]
    },
    {
     "name": "stderr",
     "output_type": "stream",
     "text": [
      "100%|██████████| 258/258 [00:54<00:00,  4.77it/s]\n",
      "  0%|          | 0/258 [00:00<?, ?it/s]"
     ]
    },
    {
     "name": "stdout",
     "output_type": "stream",
     "text": [
      "Epoch 5: LR: 0.00020, Train loss: 0.126 Valid loss: 0.074  Valid ROC-AUC: 0.789 Test loss: 0.118  Test ROC-AUC: 0.780\n"
     ]
    },
    {
     "name": "stderr",
     "output_type": "stream",
     "text": [
      "100%|██████████| 258/258 [00:52<00:00,  4.87it/s]\n",
      "  0%|          | 0/258 [00:00<?, ?it/s]"
     ]
    },
    {
     "name": "stdout",
     "output_type": "stream",
     "text": [
      "Epoch 6: LR: 0.00020, Train loss: 0.124 Valid loss: 0.075  Valid ROC-AUC: 0.806 Test loss: 0.114  Test ROC-AUC: 0.799\n"
     ]
    },
    {
     "name": "stderr",
     "output_type": "stream",
     "text": [
      "100%|██████████| 258/258 [00:53<00:00,  4.78it/s]\n",
      "  0%|          | 0/258 [00:00<?, ?it/s]"
     ]
    },
    {
     "name": "stdout",
     "output_type": "stream",
     "text": [
      "Epoch 7: LR: 0.00019, Train loss: 0.117 Valid loss: 0.076  Valid ROC-AUC: 0.793 Test loss: 0.117  Test ROC-AUC: 0.777\n"
     ]
    },
    {
     "name": "stderr",
     "output_type": "stream",
     "text": [
      "100%|██████████| 258/258 [00:52<00:00,  4.88it/s]\n",
      "  0%|          | 0/258 [00:00<?, ?it/s]"
     ]
    },
    {
     "name": "stdout",
     "output_type": "stream",
     "text": [
      "Epoch 8: LR: 0.00019, Train loss: 0.112 Valid loss: 0.079  Valid ROC-AUC: 0.782 Test loss: 0.124  Test ROC-AUC: 0.782\n"
     ]
    },
    {
     "name": "stderr",
     "output_type": "stream",
     "text": [
      "100%|██████████| 258/258 [00:53<00:00,  4.82it/s]\n",
      "  0%|          | 0/258 [00:00<?, ?it/s]"
     ]
    },
    {
     "name": "stdout",
     "output_type": "stream",
     "text": [
      "Epoch 9: LR: 0.00019, Train loss: 0.109 Valid loss: 0.072  Valid ROC-AUC: 0.808 Test loss: 0.111  Test ROC-AUC: 0.808\n"
     ]
    },
    {
     "name": "stderr",
     "output_type": "stream",
     "text": [
      "100%|██████████| 258/258 [00:52<00:00,  4.90it/s]\n",
      "  0%|          | 0/258 [00:00<?, ?it/s]"
     ]
    },
    {
     "name": "stdout",
     "output_type": "stream",
     "text": [
      "Epoch 10: LR: 0.00019, Train loss: 0.108 Valid loss: 0.076  Valid ROC-AUC: 0.777 Test loss: 0.119  Test ROC-AUC: 0.783\n"
     ]
    },
    {
     "name": "stderr",
     "output_type": "stream",
     "text": [
      "100%|██████████| 258/258 [00:53<00:00,  4.87it/s]\n",
      "  0%|          | 0/258 [00:00<?, ?it/s]"
     ]
    },
    {
     "name": "stdout",
     "output_type": "stream",
     "text": [
      "Epoch 11: LR: 0.00019, Train loss: 0.107 Valid loss: 0.070  Valid ROC-AUC: 0.808 Test loss: 0.114  Test ROC-AUC: 0.794\n"
     ]
    },
    {
     "name": "stderr",
     "output_type": "stream",
     "text": [
      "100%|██████████| 258/258 [00:53<00:00,  4.84it/s]\n",
      "  0%|          | 0/258 [00:00<?, ?it/s]"
     ]
    },
    {
     "name": "stdout",
     "output_type": "stream",
     "text": [
      "Epoch 12: LR: 0.00018, Train loss: 0.103 Valid loss: 0.077  Valid ROC-AUC: 0.787 Test loss: 0.116  Test ROC-AUC: 0.784\n"
     ]
    },
    {
     "name": "stderr",
     "output_type": "stream",
     "text": [
      "100%|██████████| 258/258 [00:53<00:00,  4.83it/s]\n",
      "  0%|          | 0/258 [00:00<?, ?it/s]"
     ]
    },
    {
     "name": "stdout",
     "output_type": "stream",
     "text": [
      "Epoch 13: LR: 0.00018, Train loss: 0.102 Valid loss: 0.072  Valid ROC-AUC: 0.804 Test loss: 0.116  Test ROC-AUC: 0.797\n"
     ]
    },
    {
     "name": "stderr",
     "output_type": "stream",
     "text": [
      "100%|██████████| 258/258 [00:53<00:00,  4.83it/s]\n",
      "  0%|          | 0/258 [00:00<?, ?it/s]"
     ]
    },
    {
     "name": "stdout",
     "output_type": "stream",
     "text": [
      "Epoch 14: LR: 0.00018, Train loss: 0.096 Valid loss: 0.078  Valid ROC-AUC: 0.789 Test loss: 0.117  Test ROC-AUC: 0.779\n"
     ]
    },
    {
     "name": "stderr",
     "output_type": "stream",
     "text": [
      "100%|██████████| 258/258 [00:53<00:00,  4.85it/s]\n",
      "  0%|          | 0/258 [00:00<?, ?it/s]"
     ]
    },
    {
     "name": "stdout",
     "output_type": "stream",
     "text": [
      "Epoch 15: LR: 0.00018, Train loss: 0.097 Valid loss: 0.073  Valid ROC-AUC: 0.823 Test loss: 0.120  Test ROC-AUC: 0.765\n"
     ]
    },
    {
     "name": "stderr",
     "output_type": "stream",
     "text": [
      "100%|██████████| 258/258 [00:53<00:00,  4.83it/s]\n",
      "  0%|          | 0/258 [00:00<?, ?it/s]"
     ]
    },
    {
     "name": "stdout",
     "output_type": "stream",
     "text": [
      "Epoch 16: LR: 0.00017, Train loss: 0.092 Valid loss: 0.092  Valid ROC-AUC: 0.788 Test loss: 0.132  Test ROC-AUC: 0.769\n"
     ]
    },
    {
     "name": "stderr",
     "output_type": "stream",
     "text": [
      "100%|██████████| 258/258 [00:53<00:00,  4.80it/s]\n",
      "  0%|          | 0/258 [00:00<?, ?it/s]"
     ]
    },
    {
     "name": "stdout",
     "output_type": "stream",
     "text": [
      "Epoch 17: LR: 0.00017, Train loss: 0.089 Valid loss: 0.071  Valid ROC-AUC: 0.822 Test loss: 0.119  Test ROC-AUC: 0.782\n"
     ]
    },
    {
     "name": "stderr",
     "output_type": "stream",
     "text": [
      "100%|██████████| 258/258 [00:53<00:00,  4.82it/s]\n",
      "  0%|          | 0/258 [00:00<?, ?it/s]"
     ]
    },
    {
     "name": "stdout",
     "output_type": "stream",
     "text": [
      "Epoch 18: LR: 0.00017, Train loss: 0.087 Valid loss: 0.075  Valid ROC-AUC: 0.793 Test loss: 0.114  Test ROC-AUC: 0.792\n"
     ]
    },
    {
     "name": "stderr",
     "output_type": "stream",
     "text": [
      "100%|██████████| 258/258 [00:52<00:00,  4.89it/s]\n",
      "  0%|          | 0/258 [00:00<?, ?it/s]"
     ]
    },
    {
     "name": "stdout",
     "output_type": "stream",
     "text": [
      "Epoch 19: LR: 0.00017, Train loss: 0.083 Valid loss: 0.073  Valid ROC-AUC: 0.800 Test loss: 0.117  Test ROC-AUC: 0.780\n"
     ]
    },
    {
     "name": "stderr",
     "output_type": "stream",
     "text": [
      "100%|██████████| 258/258 [00:54<00:00,  4.77it/s]\n",
      "  0%|          | 0/258 [00:00<?, ?it/s]"
     ]
    },
    {
     "name": "stdout",
     "output_type": "stream",
     "text": [
      "Epoch 20: LR: 0.00017, Train loss: 0.078 Valid loss: 0.077  Valid ROC-AUC: 0.806 Test loss: 0.132  Test ROC-AUC: 0.763\n"
     ]
    },
    {
     "name": "stderr",
     "output_type": "stream",
     "text": [
      "100%|██████████| 258/258 [00:53<00:00,  4.78it/s]\n",
      "  0%|          | 0/258 [00:00<?, ?it/s]"
     ]
    },
    {
     "name": "stdout",
     "output_type": "stream",
     "text": [
      "Epoch 21: LR: 0.00016, Train loss: 0.077 Valid loss: 0.083  Valid ROC-AUC: 0.765 Test loss: 0.135  Test ROC-AUC: 0.761\n"
     ]
    },
    {
     "name": "stderr",
     "output_type": "stream",
     "text": [
      "100%|██████████| 258/258 [00:54<00:00,  4.74it/s]\n",
      "  0%|          | 0/258 [00:00<?, ?it/s]"
     ]
    },
    {
     "name": "stdout",
     "output_type": "stream",
     "text": [
      "Epoch 22: LR: 0.00016, Train loss: 0.075 Valid loss: 0.082  Valid ROC-AUC: 0.783 Test loss: 0.135  Test ROC-AUC: 0.765\n"
     ]
    },
    {
     "name": "stderr",
     "output_type": "stream",
     "text": [
      "100%|██████████| 258/258 [00:53<00:00,  4.80it/s]\n",
      "  0%|          | 0/258 [00:00<?, ?it/s]"
     ]
    },
    {
     "name": "stdout",
     "output_type": "stream",
     "text": [
      "Epoch 23: LR: 0.00016, Train loss: 0.070 Valid loss: 0.082  Valid ROC-AUC: 0.800 Test loss: 0.143  Test ROC-AUC: 0.770\n"
     ]
    },
    {
     "name": "stderr",
     "output_type": "stream",
     "text": [
      "100%|██████████| 258/258 [00:53<00:00,  4.78it/s]\n",
      "  0%|          | 0/258 [00:00<?, ?it/s]"
     ]
    },
    {
     "name": "stdout",
     "output_type": "stream",
     "text": [
      "Epoch 24: LR: 0.00016, Train loss: 0.068 Valid loss: 0.089  Valid ROC-AUC: 0.748 Test loss: 0.149  Test ROC-AUC: 0.751\n"
     ]
    },
    {
     "name": "stderr",
     "output_type": "stream",
     "text": [
      "100%|██████████| 258/258 [00:53<00:00,  4.85it/s]\n",
      "  0%|          | 1/258 [00:00<00:47,  5.37it/s]"
     ]
    },
    {
     "name": "stdout",
     "output_type": "stream",
     "text": [
      "Epoch 25: LR: 0.00016, Train loss: 0.063 Valid loss: 0.083  Valid ROC-AUC: 0.806 Test loss: 0.141  Test ROC-AUC: 0.787\n"
     ]
    },
    {
     "name": "stderr",
     "output_type": "stream",
     "text": [
      "100%|██████████| 258/258 [00:53<00:00,  4.86it/s]\n",
      "  0%|          | 0/258 [00:00<?, ?it/s]"
     ]
    },
    {
     "name": "stdout",
     "output_type": "stream",
     "text": [
      "Epoch 26: LR: 0.00015, Train loss: 0.060 Valid loss: 0.091  Valid ROC-AUC: 0.803 Test loss: 0.147  Test ROC-AUC: 0.791\n"
     ]
    },
    {
     "name": "stderr",
     "output_type": "stream",
     "text": [
      "100%|██████████| 258/258 [00:53<00:00,  4.82it/s]\n",
      "  0%|          | 0/258 [00:00<?, ?it/s]"
     ]
    },
    {
     "name": "stdout",
     "output_type": "stream",
     "text": [
      "Epoch 27: LR: 0.00015, Train loss: 0.056 Valid loss: 0.094  Valid ROC-AUC: 0.781 Test loss: 0.164  Test ROC-AUC: 0.779\n"
     ]
    },
    {
     "name": "stderr",
     "output_type": "stream",
     "text": [
      "100%|██████████| 258/258 [00:53<00:00,  4.83it/s]\n",
      "  0%|          | 0/258 [00:00<?, ?it/s]"
     ]
    },
    {
     "name": "stdout",
     "output_type": "stream",
     "text": [
      "Epoch 28: LR: 0.00015, Train loss: 0.052 Valid loss: 0.097  Valid ROC-AUC: 0.789 Test loss: 0.158  Test ROC-AUC: 0.787\n"
     ]
    },
    {
     "name": "stderr",
     "output_type": "stream",
     "text": [
      "100%|██████████| 258/258 [00:53<00:00,  4.85it/s]\n",
      "  0%|          | 0/258 [00:00<?, ?it/s]"
     ]
    },
    {
     "name": "stdout",
     "output_type": "stream",
     "text": [
      "Epoch 29: LR: 0.00015, Train loss: 0.050 Valid loss: 0.098  Valid ROC-AUC: 0.791 Test loss: 0.157  Test ROC-AUC: 0.795\n"
     ]
    },
    {
     "name": "stderr",
     "output_type": "stream",
     "text": [
      "100%|██████████| 258/258 [00:52<00:00,  4.91it/s]\n",
      "  0%|          | 0/258 [00:00<?, ?it/s]"
     ]
    },
    {
     "name": "stdout",
     "output_type": "stream",
     "text": [
      "Epoch 30: LR: 0.00015, Train loss: 0.047 Valid loss: 0.098  Valid ROC-AUC: 0.770 Test loss: 0.159  Test ROC-AUC: 0.805\n"
     ]
    },
    {
     "name": "stderr",
     "output_type": "stream",
     "text": [
      "100%|██████████| 258/258 [00:52<00:00,  4.95it/s]\n",
      "  0%|          | 0/258 [00:00<?, ?it/s]"
     ]
    },
    {
     "name": "stdout",
     "output_type": "stream",
     "text": [
      "Epoch 31: LR: 0.00014, Train loss: 0.047 Valid loss: 0.103  Valid ROC-AUC: 0.757 Test loss: 0.185  Test ROC-AUC: 0.761\n"
     ]
    },
    {
     "name": "stderr",
     "output_type": "stream",
     "text": [
      "100%|██████████| 258/258 [00:53<00:00,  4.85it/s]\n",
      "  0%|          | 0/258 [00:00<?, ?it/s]"
     ]
    },
    {
     "name": "stdout",
     "output_type": "stream",
     "text": [
      "Epoch 32: LR: 0.00014, Train loss: 0.044 Valid loss: 0.104  Valid ROC-AUC: 0.772 Test loss: 0.189  Test ROC-AUC: 0.758\n"
     ]
    },
    {
     "name": "stderr",
     "output_type": "stream",
     "text": [
      "100%|██████████| 258/258 [00:54<00:00,  4.75it/s]\n",
      "  0%|          | 0/258 [00:00<?, ?it/s]"
     ]
    },
    {
     "name": "stdout",
     "output_type": "stream",
     "text": [
      "Epoch 33: LR: 0.00014, Train loss: 0.038 Valid loss: 0.124  Valid ROC-AUC: 0.743 Test loss: 0.192  Test ROC-AUC: 0.783\n"
     ]
    },
    {
     "name": "stderr",
     "output_type": "stream",
     "text": [
      "100%|██████████| 258/258 [00:54<00:00,  4.73it/s]\n",
      "  0%|          | 0/258 [00:00<?, ?it/s]"
     ]
    },
    {
     "name": "stdout",
     "output_type": "stream",
     "text": [
      "Epoch 34: LR: 0.00014, Train loss: 0.037 Valid loss: 0.119  Valid ROC-AUC: 0.771 Test loss: 0.204  Test ROC-AUC: 0.767\n"
     ]
    },
    {
     "name": "stderr",
     "output_type": "stream",
     "text": [
      "100%|██████████| 258/258 [00:54<00:00,  4.77it/s]\n",
      "  0%|          | 0/258 [00:00<?, ?it/s]"
     ]
    },
    {
     "name": "stdout",
     "output_type": "stream",
     "text": [
      "Epoch 35: LR: 0.00013, Train loss: 0.034 Valid loss: 0.134  Valid ROC-AUC: 0.735 Test loss: 0.205  Test ROC-AUC: 0.768\n"
     ]
    },
    {
     "name": "stderr",
     "output_type": "stream",
     "text": [
      "100%|██████████| 258/258 [00:53<00:00,  4.83it/s]\n",
      "  0%|          | 0/258 [00:00<?, ?it/s]"
     ]
    },
    {
     "name": "stdout",
     "output_type": "stream",
     "text": [
      "Epoch 36: LR: 0.00013, Train loss: 0.035 Valid loss: 0.123  Valid ROC-AUC: 0.753 Test loss: 0.181  Test ROC-AUC: 0.779\n"
     ]
    },
    {
     "name": "stderr",
     "output_type": "stream",
     "text": [
      "100%|██████████| 258/258 [00:53<00:00,  4.86it/s]\n",
      "  0%|          | 0/258 [00:00<?, ?it/s]"
     ]
    },
    {
     "name": "stdout",
     "output_type": "stream",
     "text": [
      "Epoch 37: LR: 0.00013, Train loss: 0.029 Valid loss: 0.130  Valid ROC-AUC: 0.783 Test loss: 0.215  Test ROC-AUC: 0.781\n"
     ]
    },
    {
     "name": "stderr",
     "output_type": "stream",
     "text": [
      "100%|██████████| 258/258 [00:53<00:00,  4.80it/s]\n",
      "  0%|          | 0/258 [00:00<?, ?it/s]"
     ]
    },
    {
     "name": "stdout",
     "output_type": "stream",
     "text": [
      "Epoch 38: LR: 0.00013, Train loss: 0.029 Valid loss: 0.119  Valid ROC-AUC: 0.786 Test loss: 0.205  Test ROC-AUC: 0.785\n"
     ]
    },
    {
     "name": "stderr",
     "output_type": "stream",
     "text": [
      "100%|██████████| 258/258 [00:53<00:00,  4.81it/s]\n",
      "  0%|          | 0/258 [00:00<?, ?it/s]"
     ]
    },
    {
     "name": "stdout",
     "output_type": "stream",
     "text": [
      "Epoch 39: LR: 0.00013, Train loss: 0.026 Valid loss: 0.118  Valid ROC-AUC: 0.778 Test loss: 0.215  Test ROC-AUC: 0.761\n"
     ]
    },
    {
     "name": "stderr",
     "output_type": "stream",
     "text": [
      "100%|██████████| 258/258 [00:53<00:00,  4.81it/s]\n",
      "  0%|          | 0/258 [00:00<?, ?it/s]"
     ]
    },
    {
     "name": "stdout",
     "output_type": "stream",
     "text": [
      "Epoch 40: LR: 0.00012, Train loss: 0.026 Valid loss: 0.136  Valid ROC-AUC: 0.813 Test loss: 0.239  Test ROC-AUC: 0.774\n"
     ]
    },
    {
     "name": "stderr",
     "output_type": "stream",
     "text": [
      "100%|██████████| 258/258 [00:52<00:00,  4.94it/s]\n",
      "  0%|          | 0/258 [00:00<?, ?it/s]"
     ]
    },
    {
     "name": "stdout",
     "output_type": "stream",
     "text": [
      "Epoch 41: LR: 0.00012, Train loss: 0.023 Valid loss: 0.135  Valid ROC-AUC: 0.798 Test loss: 0.234  Test ROC-AUC: 0.792\n"
     ]
    },
    {
     "name": "stderr",
     "output_type": "stream",
     "text": [
      "100%|██████████| 258/258 [00:53<00:00,  4.84it/s]\n",
      "  0%|          | 0/258 [00:00<?, ?it/s]"
     ]
    },
    {
     "name": "stdout",
     "output_type": "stream",
     "text": [
      "Epoch 42: LR: 0.00012, Train loss: 0.022 Valid loss: 0.145  Valid ROC-AUC: 0.787 Test loss: 0.252  Test ROC-AUC: 0.790\n"
     ]
    },
    {
     "name": "stderr",
     "output_type": "stream",
     "text": [
      "100%|██████████| 258/258 [00:53<00:00,  4.85it/s]\n",
      "  0%|          | 0/258 [00:00<?, ?it/s]"
     ]
    },
    {
     "name": "stdout",
     "output_type": "stream",
     "text": [
      "Epoch 43: LR: 0.00012, Train loss: 0.023 Valid loss: 0.145  Valid ROC-AUC: 0.770 Test loss: 0.250  Test ROC-AUC: 0.785\n"
     ]
    },
    {
     "name": "stderr",
     "output_type": "stream",
     "text": [
      "100%|██████████| 258/258 [00:53<00:00,  4.79it/s]\n",
      "  0%|          | 0/258 [00:00<?, ?it/s]"
     ]
    },
    {
     "name": "stdout",
     "output_type": "stream",
     "text": [
      "Epoch 44: LR: 0.00012, Train loss: 0.022 Valid loss: 0.135  Valid ROC-AUC: 0.783 Test loss: 0.234  Test ROC-AUC: 0.775\n"
     ]
    },
    {
     "name": "stderr",
     "output_type": "stream",
     "text": [
      "100%|██████████| 258/258 [00:53<00:00,  4.80it/s]\n",
      "  0%|          | 0/258 [00:00<?, ?it/s]"
     ]
    },
    {
     "name": "stdout",
     "output_type": "stream",
     "text": [
      "Epoch 45: LR: 0.00011, Train loss: 0.022 Valid loss: 0.137  Valid ROC-AUC: 0.780 Test loss: 0.230  Test ROC-AUC: 0.778\n"
     ]
    },
    {
     "name": "stderr",
     "output_type": "stream",
     "text": [
      "100%|██████████| 258/258 [00:53<00:00,  4.81it/s]\n",
      "  0%|          | 0/258 [00:00<?, ?it/s]"
     ]
    },
    {
     "name": "stdout",
     "output_type": "stream",
     "text": [
      "Epoch 46: LR: 0.00011, Train loss: 0.022 Valid loss: 0.143  Valid ROC-AUC: 0.773 Test loss: 0.245  Test ROC-AUC: 0.783\n"
     ]
    },
    {
     "name": "stderr",
     "output_type": "stream",
     "text": [
      "100%|██████████| 258/258 [00:54<00:00,  4.76it/s]\n",
      "  0%|          | 0/258 [00:00<?, ?it/s]"
     ]
    },
    {
     "name": "stdout",
     "output_type": "stream",
     "text": [
      "Epoch 47: LR: 0.00011, Train loss: 0.019 Valid loss: 0.153  Valid ROC-AUC: 0.785 Test loss: 0.257  Test ROC-AUC: 0.790\n"
     ]
    },
    {
     "name": "stderr",
     "output_type": "stream",
     "text": [
      "100%|██████████| 258/258 [00:53<00:00,  4.82it/s]\n",
      "  0%|          | 0/258 [00:00<?, ?it/s]"
     ]
    },
    {
     "name": "stdout",
     "output_type": "stream",
     "text": [
      "Epoch 48: LR: 0.00011, Train loss: 0.019 Valid loss: 0.149  Valid ROC-AUC: 0.757 Test loss: 0.237  Test ROC-AUC: 0.784\n"
     ]
    },
    {
     "name": "stderr",
     "output_type": "stream",
     "text": [
      "100%|██████████| 258/258 [00:53<00:00,  4.79it/s]\n",
      "  0%|          | 0/258 [00:00<?, ?it/s]"
     ]
    },
    {
     "name": "stdout",
     "output_type": "stream",
     "text": [
      "Epoch 49: LR: 0.00011, Train loss: 0.018 Valid loss: 0.150  Valid ROC-AUC: 0.778 Test loss: 0.250  Test ROC-AUC: 0.785\n"
     ]
    },
    {
     "name": "stderr",
     "output_type": "stream",
     "text": [
      "100%|██████████| 258/258 [00:53<00:00,  4.80it/s]\n",
      "  0%|          | 0/258 [00:00<?, ?it/s]"
     ]
    },
    {
     "name": "stdout",
     "output_type": "stream",
     "text": [
      "Epoch 50: LR: 0.00010, Train loss: 0.018 Valid loss: 0.156  Valid ROC-AUC: 0.749 Test loss: 0.251  Test ROC-AUC: 0.788\n"
     ]
    },
    {
     "name": "stderr",
     "output_type": "stream",
     "text": [
      "100%|██████████| 258/258 [00:54<00:00,  4.72it/s]\n",
      "  0%|          | 0/258 [00:00<?, ?it/s]"
     ]
    },
    {
     "name": "stdout",
     "output_type": "stream",
     "text": [
      "Epoch 51: LR: 0.00010, Train loss: 0.016 Valid loss: 0.154  Valid ROC-AUC: 0.796 Test loss: 0.283  Test ROC-AUC: 0.782\n"
     ]
    },
    {
     "name": "stderr",
     "output_type": "stream",
     "text": [
      "100%|██████████| 258/258 [00:53<00:00,  4.79it/s]\n",
      "  0%|          | 0/258 [00:00<?, ?it/s]"
     ]
    },
    {
     "name": "stdout",
     "output_type": "stream",
     "text": [
      "Epoch 52: LR: 0.00010, Train loss: 0.015 Valid loss: 0.155  Valid ROC-AUC: 0.788 Test loss: 0.257  Test ROC-AUC: 0.805\n"
     ]
    },
    {
     "name": "stderr",
     "output_type": "stream",
     "text": [
      "100%|██████████| 258/258 [00:53<00:00,  4.82it/s]\n",
      "  0%|          | 0/258 [00:00<?, ?it/s]"
     ]
    },
    {
     "name": "stdout",
     "output_type": "stream",
     "text": [
      "Epoch 53: LR: 0.00010, Train loss: 0.014 Valid loss: 0.175  Valid ROC-AUC: 0.750 Test loss: 0.265  Test ROC-AUC: 0.787\n"
     ]
    },
    {
     "name": "stderr",
     "output_type": "stream",
     "text": [
      "100%|██████████| 258/258 [00:53<00:00,  4.80it/s]\n",
      "  0%|          | 0/258 [00:00<?, ?it/s]"
     ]
    },
    {
     "name": "stdout",
     "output_type": "stream",
     "text": [
      "Epoch 54: LR: 0.00009, Train loss: 0.013 Valid loss: 0.182  Valid ROC-AUC: 0.786 Test loss: 0.300  Test ROC-AUC: 0.773\n"
     ]
    },
    {
     "name": "stderr",
     "output_type": "stream",
     "text": [
      "100%|██████████| 258/258 [00:53<00:00,  4.83it/s]\n",
      "  0%|          | 0/258 [00:00<?, ?it/s]"
     ]
    },
    {
     "name": "stdout",
     "output_type": "stream",
     "text": [
      "Epoch 55: LR: 0.00009, Train loss: 0.016 Valid loss: 0.170  Valid ROC-AUC: 0.771 Test loss: 0.275  Test ROC-AUC: 0.782\n"
     ]
    },
    {
     "name": "stderr",
     "output_type": "stream",
     "text": [
      "100%|██████████| 258/258 [00:53<00:00,  4.85it/s]\n",
      "  0%|          | 0/258 [00:00<?, ?it/s]"
     ]
    },
    {
     "name": "stdout",
     "output_type": "stream",
     "text": [
      "Epoch 56: LR: 0.00009, Train loss: 0.012 Valid loss: 0.172  Valid ROC-AUC: 0.796 Test loss: 0.298  Test ROC-AUC: 0.778\n"
     ]
    },
    {
     "name": "stderr",
     "output_type": "stream",
     "text": [
      "100%|██████████| 258/258 [00:54<00:00,  4.76it/s]\n",
      "  0%|          | 0/258 [00:00<?, ?it/s]"
     ]
    },
    {
     "name": "stdout",
     "output_type": "stream",
     "text": [
      "Epoch 57: LR: 0.00009, Train loss: 0.012 Valid loss: 0.178  Valid ROC-AUC: 0.786 Test loss: 0.301  Test ROC-AUC: 0.775\n"
     ]
    },
    {
     "name": "stderr",
     "output_type": "stream",
     "text": [
      "100%|██████████| 258/258 [00:53<00:00,  4.82it/s]\n",
      "  0%|          | 0/258 [00:00<?, ?it/s]"
     ]
    },
    {
     "name": "stdout",
     "output_type": "stream",
     "text": [
      "Epoch 58: LR: 0.00009, Train loss: 0.012 Valid loss: 0.164  Valid ROC-AUC: 0.798 Test loss: 0.291  Test ROC-AUC: 0.799\n"
     ]
    },
    {
     "name": "stderr",
     "output_type": "stream",
     "text": [
      "100%|██████████| 258/258 [00:53<00:00,  4.83it/s]\n",
      "  0%|          | 0/258 [00:00<?, ?it/s]"
     ]
    },
    {
     "name": "stdout",
     "output_type": "stream",
     "text": [
      "Epoch 59: LR: 0.00008, Train loss: 0.009 Valid loss: 0.177  Valid ROC-AUC: 0.799 Test loss: 0.319  Test ROC-AUC: 0.784\n"
     ]
    },
    {
     "name": "stderr",
     "output_type": "stream",
     "text": [
      "100%|██████████| 258/258 [00:53<00:00,  4.81it/s]\n",
      "  0%|          | 0/258 [00:00<?, ?it/s]"
     ]
    },
    {
     "name": "stdout",
     "output_type": "stream",
     "text": [
      "Epoch 60: LR: 0.00008, Train loss: 0.011 Valid loss: 0.166  Valid ROC-AUC: 0.811 Test loss: 0.306  Test ROC-AUC: 0.795\n"
     ]
    },
    {
     "name": "stderr",
     "output_type": "stream",
     "text": [
      "100%|██████████| 258/258 [00:54<00:00,  4.77it/s]\n",
      "  0%|          | 0/258 [00:00<?, ?it/s]"
     ]
    },
    {
     "name": "stdout",
     "output_type": "stream",
     "text": [
      "Epoch 61: LR: 0.00008, Train loss: 0.010 Valid loss: 0.183  Valid ROC-AUC: 0.793 Test loss: 0.321  Test ROC-AUC: 0.782\n"
     ]
    },
    {
     "name": "stderr",
     "output_type": "stream",
     "text": [
      "100%|██████████| 258/258 [00:54<00:00,  4.75it/s]\n",
      "  0%|          | 0/258 [00:00<?, ?it/s]"
     ]
    },
    {
     "name": "stdout",
     "output_type": "stream",
     "text": [
      "Epoch 62: LR: 0.00008, Train loss: 0.010 Valid loss: 0.196  Valid ROC-AUC: 0.786 Test loss: 0.365  Test ROC-AUC: 0.790\n"
     ]
    },
    {
     "name": "stderr",
     "output_type": "stream",
     "text": [
      "100%|██████████| 258/258 [00:54<00:00,  4.77it/s]\n",
      "  0%|          | 0/258 [00:00<?, ?it/s]"
     ]
    },
    {
     "name": "stdout",
     "output_type": "stream",
     "text": [
      "Epoch 63: LR: 0.00008, Train loss: 0.010 Valid loss: 0.206  Valid ROC-AUC: 0.771 Test loss: 0.367  Test ROC-AUC: 0.776\n"
     ]
    },
    {
     "name": "stderr",
     "output_type": "stream",
     "text": [
      "100%|██████████| 258/258 [00:53<00:00,  4.82it/s]\n",
      "  0%|          | 0/258 [00:00<?, ?it/s]"
     ]
    },
    {
     "name": "stdout",
     "output_type": "stream",
     "text": [
      "Epoch 64: LR: 0.00007, Train loss: 0.008 Valid loss: 0.199  Valid ROC-AUC: 0.787 Test loss: 0.335  Test ROC-AUC: 0.788\n"
     ]
    },
    {
     "name": "stderr",
     "output_type": "stream",
     "text": [
      "100%|██████████| 258/258 [00:52<00:00,  4.88it/s]\n",
      "  0%|          | 0/258 [00:00<?, ?it/s]"
     ]
    },
    {
     "name": "stdout",
     "output_type": "stream",
     "text": [
      "Epoch 65: LR: 0.00007, Train loss: 0.007 Valid loss: 0.205  Valid ROC-AUC: 0.797 Test loss: 0.359  Test ROC-AUC: 0.781\n"
     ]
    },
    {
     "name": "stderr",
     "output_type": "stream",
     "text": [
      "100%|██████████| 258/258 [00:53<00:00,  4.81it/s]\n",
      "  0%|          | 0/258 [00:00<?, ?it/s]"
     ]
    },
    {
     "name": "stdout",
     "output_type": "stream",
     "text": [
      "Epoch 66: LR: 0.00007, Train loss: 0.006 Valid loss: 0.200  Valid ROC-AUC: 0.800 Test loss: 0.366  Test ROC-AUC: 0.786\n"
     ]
    },
    {
     "name": "stderr",
     "output_type": "stream",
     "text": [
      "100%|██████████| 258/258 [00:53<00:00,  4.82it/s]\n",
      "  0%|          | 0/258 [00:00<?, ?it/s]"
     ]
    },
    {
     "name": "stdout",
     "output_type": "stream",
     "text": [
      "Epoch 67: LR: 0.00007, Train loss: 0.006 Valid loss: 0.198  Valid ROC-AUC: 0.781 Test loss: 0.370  Test ROC-AUC: 0.767\n"
     ]
    },
    {
     "name": "stderr",
     "output_type": "stream",
     "text": [
      "100%|██████████| 258/258 [00:53<00:00,  4.84it/s]\n",
      "  0%|          | 0/258 [00:00<?, ?it/s]"
     ]
    },
    {
     "name": "stdout",
     "output_type": "stream",
     "text": [
      "Epoch 68: LR: 0.00007, Train loss: 0.007 Valid loss: 0.209  Valid ROC-AUC: 0.794 Test loss: 0.380  Test ROC-AUC: 0.777\n"
     ]
    },
    {
     "name": "stderr",
     "output_type": "stream",
     "text": [
      "100%|██████████| 258/258 [00:53<00:00,  4.79it/s]\n",
      "  0%|          | 0/258 [00:00<?, ?it/s]"
     ]
    },
    {
     "name": "stdout",
     "output_type": "stream",
     "text": [
      "Epoch 69: LR: 0.00006, Train loss: 0.006 Valid loss: 0.214  Valid ROC-AUC: 0.793 Test loss: 0.394  Test ROC-AUC: 0.792\n"
     ]
    },
    {
     "name": "stderr",
     "output_type": "stream",
     "text": [
      "100%|██████████| 258/258 [00:53<00:00,  4.85it/s]\n",
      "  0%|          | 0/258 [00:00<?, ?it/s]"
     ]
    },
    {
     "name": "stdout",
     "output_type": "stream",
     "text": [
      "Epoch 70: LR: 0.00006, Train loss: 0.007 Valid loss: 0.217  Valid ROC-AUC: 0.787 Test loss: 0.368  Test ROC-AUC: 0.780\n"
     ]
    },
    {
     "name": "stderr",
     "output_type": "stream",
     "text": [
      "100%|██████████| 258/258 [00:53<00:00,  4.82it/s]\n",
      "  0%|          | 0/258 [00:00<?, ?it/s]"
     ]
    },
    {
     "name": "stdout",
     "output_type": "stream",
     "text": [
      "Epoch 71: LR: 0.00006, Train loss: 0.006 Valid loss: 0.223  Valid ROC-AUC: 0.798 Test loss: 0.398  Test ROC-AUC: 0.779\n"
     ]
    },
    {
     "name": "stderr",
     "output_type": "stream",
     "text": [
      "100%|██████████| 258/258 [00:54<00:00,  4.76it/s]\n",
      "  0%|          | 0/258 [00:00<?, ?it/s]"
     ]
    },
    {
     "name": "stdout",
     "output_type": "stream",
     "text": [
      "Epoch 72: LR: 0.00006, Train loss: 0.006 Valid loss: 0.220  Valid ROC-AUC: 0.787 Test loss: 0.366  Test ROC-AUC: 0.782\n"
     ]
    },
    {
     "name": "stderr",
     "output_type": "stream",
     "text": [
      " 52%|█████▏    | 135/258 [00:27<00:27,  4.51it/s]"
     ]
    }
   ],
   "source": [
    "stats = []\n",
    "for epoch in range(args.num_epochs):\n",
    "    model.train()\n",
    "    train_loss = []\n",
    "    for data in tqdm(train_loader):\n",
    "        data.to(args.device)\n",
    "        out = model(data.x, data.edge_index, data.cn_edge_attr, data.sd_edge_attr, data.batch)\n",
    "        loss = criterion(out, data.y.float())\n",
    "        loss.backward()\n",
    "        torch.nn.utils.clip_grad_norm_(model.parameters(), 1.0)\n",
    "        \n",
    "        optimizer.step()\n",
    "        optimizer.zero_grad()\n",
    "        scheduler.step()\n",
    "        \n",
    "        train_loss += [loss.item()]\n",
    "\n",
    "    model.eval()\n",
    "    with torch.no_grad():\n",
    "        valid_loss = []\n",
    "        y_true = []\n",
    "        y_scores = []\n",
    "        for data in valid_loader:\n",
    "            data.to(args.device)\n",
    "            out = model(data.x, data.edge_index, data.cn_edge_attr, data.sd_edge_attr, data.batch)\n",
    "\n",
    "            loss = criterion(out, data.y.float())\n",
    "            valid_loss += [loss.item()]\n",
    "\n",
    "            y_true += [data.y]\n",
    "            y_scores += [out]\n",
    "\n",
    "        input_dict = {\"y_true\": torch.cat(y_true), \"y_pred\": torch.cat(y_scores)}\n",
    "        valid_rocauc = evaluator.eval(input_dict)['rocauc']\n",
    "        \n",
    "        \n",
    "        test_loss = []\n",
    "        y_true = []\n",
    "        y_scores = []\n",
    "        for data in test_loader:\n",
    "            data.to(args.device)\n",
    "            out = model(data.x, data.edge_index, data.cn_edge_attr, data.sd_edge_attr, data.batch)\n",
    "\n",
    "            loss = criterion(out, data.y.float())\n",
    "            test_loss += [loss.item()]\n",
    "\n",
    "            y_true += [data.y]\n",
    "            y_scores += [out]\n",
    "\n",
    "        input_dict = {\"y_true\": torch.cat(y_true), \"y_pred\": torch.cat(y_scores)}\n",
    "        test_rocauc = evaluator.eval(input_dict)['rocauc']\n",
    "    \n",
    "    print('Epoch %d: LR: %.5f, Train loss: %.3f Valid loss: %.3f  Valid ROC-AUC: %.3f Test loss: %.3f  Test ROC-AUC: %.3f' \\\n",
    "          % (epoch, optimizer.param_groups[0]['lr'], np.average(train_loss), np.average(valid_loss), \\\n",
    "            valid_rocauc, np.average(test_loss), test_rocauc))\n",
    "    stats += [[epoch, np.average(train_loss), np.average(valid_loss), valid_rocauc, np.average(test_loss), test_rocauc]]"
   ]
  }
 ],
 "metadata": {
  "kernelspec": {
   "display_name": "Python 3",
   "language": "python",
   "name": "python3"
  },
  "language_info": {
   "codemirror_mode": {
    "name": "ipython",
    "version": 3
   },
   "file_extension": ".py",
   "mimetype": "text/x-python",
   "name": "python",
   "nbconvert_exporter": "python",
   "pygments_lexer": "ipython3",
   "version": "3.7.4"
  }
 },
 "nbformat": 4,
 "nbformat_minor": 2
}
