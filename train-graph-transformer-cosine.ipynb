{
 "cells": [
  {
   "cell_type": "code",
   "execution_count": 1,
   "metadata": {},
   "outputs": [],
   "source": [
    "%load_ext autoreload\n",
    "%autoreload 2\n",
    "import networkx as nx\n",
    "\n",
    "import os\n",
    "os.environ[\"CUDA_DEVICE_ORDER\"]=\"PCI_BUS_ID\"\n",
    "os.environ[\"CUDA_VISIBLE_DEVICES\"]=\"4\"\n",
    "\n",
    "import torch\n",
    "import torch.nn as nn\n",
    "from torch_geometric.data import Data, Batch\n",
    "from torch_geometric.data import DataLoader\n",
    "import argparse\n",
    "import numpy as np\n",
    "import random\n",
    "import ogb\n",
    "from ogb.graphproppred import PygGraphPropPredDataset, Evaluator\n",
    "from graph_transformer import GT\n",
    "from utils import pre_process, pre_process_with_summary, concat_pre_process_with_summary, inf_sum_pre_process_with_summary, fin_sum_pre_process_with_summary, get_n_params, get_optimizer\n",
    "import datetime\n",
    "from tqdm import tqdm\n",
    "from tensorboardX import SummaryWriter\n",
    "import pytz"
   ]
  },
  {
   "cell_type": "code",
   "execution_count": 2,
   "metadata": {},
   "outputs": [
    {
     "name": "stdout",
     "output_type": "stream",
     "text": [
      "device: cuda\n"
     ]
    }
   ],
   "source": [
    "parser = argparse.ArgumentParser(description='PyTorch implementation of relative positional encodings and relation-aware self-attention for graph Transformers')\n",
    "args = parser.parse_args(\"\")\n",
    "\n",
    "args.dataset = 'ogbg-molhiv'\n",
    "args.n_classes = 1\n",
    "args.lr = 3e-4\n",
    "args.n_hid = 512\n",
    "args.n_heads = 8\n",
    "args.n_layer = 4\n",
    "args.dropout = 0.3\n",
    "args.num_epochs = 50\n",
    "args.k_hop_neighbors = 3\n",
    "args.k_hop = True\n",
    "args.weight_decay = 1e-2\n",
    "# args.bsz      = 512\n",
    "args.bsz      = 448\n",
    "# args.strategies = ['ea', 'rw_concat', 'sym_concat']\n",
    "args.strategies = ['ea', 'rw_concat']\n",
    "args.summary_node = True\n",
    "args.hier_levels = 3\n",
    "args.lap_k = None\n",
    "args.device = torch.device('cuda' if torch.cuda.is_available() else 'cpu')\n",
    "args.metric = 'rocauc'\n",
    "print(\"device:\", args.device)"
   ]
  },
  {
   "cell_type": "code",
   "execution_count": 3,
   "metadata": {},
   "outputs": [
    {
     "name": "stdout",
     "output_type": "stream",
     "text": [
      "Loading data...\n",
      "dataset: ogbg-molhiv \n"
     ]
    }
   ],
   "source": [
    "print(\"Loading data...\")\n",
    "print(\"dataset: {} \".format(args.dataset))\n",
    "tz = pytz.timezone('US/Pacific')\n",
    "time_now = datetime.datetime.now(tz).strftime('%m-%d_%H:%M:%S')\n",
    "\n",
    "if args.summary_node:\n",
    "    pre_transform = lambda d : concat_pre_process_with_summary(d, args)\n",
    "    root_path= f'dataset/{args.dataset}/concat_with_summary_{args.k_hop_neighbors}'\n",
    "    # args.writer = SummaryWriter(log_dir=f'runs_new/{args.dataset}/concat_with_summary_{args.k_hop_neighbors}/strats={\"-\".join(args.strategies)}/{time_now}')\n",
    "\n",
    "else:\n",
    "    pre_transform = lambda d : pre_process(d, args)\n",
    "    root_path= f'dataset/{args.dataset}/{args.k_hop_neighbors}'\n",
    "    # args.writer = SummaryWriter(log_dir=f'runs_new/{args.dataset}/k={args.k_hop_neighbors}/strats={\"-\".join(args.strategies)}/{time_now}')\n",
    "    \n",
    "    \n",
    "dataset = PygGraphPropPredDataset(name=args.dataset, pre_transform=pre_transform, root = root_path)\n",
    "evaluator = Evaluator(name=args.dataset)\n",
    "split_idx = dataset.get_idx_split()\n",
    "edge_dim_dict = {'ea': None, \\\n",
    "                 'disc': {\n",
    "#                      'sd': (dataset.data.sd_edge_attr.max(dim=0)[0].int().view(-1) + 1).tolist(), \\\n",
    "#                      'cn': (dataset.data.cn_edge_attr.max(dim=0)[0].int().view(-1) + 1).tolist(), \\\n",
    "#                      'hsd': (dataset.data.hsd_edge_attr.max(dim=0)[0].int().view(-1) + 1).tolist(), \\\n",
    "                    },\n",
    "                 'cont': {\n",
    "#                      **{('sym_' + str(k)): args.n_hid for k in range(1, args.k_hop_neighbors + 1)},\n",
    "                     **{('rw_' + str(k)): args.n_hid for k in range(1, args.k_hop_neighbors + 1)}\n",
    "#                      'rw': args.n_hid\n",
    "                 }\n",
    "                }\n",
    "model = GT(args.n_hid, args.n_classes, args.n_heads, args.n_layer, edge_dim_dict, args.dropout, args.summary_node, args.lap_k).to(args.device)"
   ]
  },
  {
   "cell_type": "code",
   "execution_count": 4,
   "metadata": {},
   "outputs": [],
   "source": [
    "valid_loader = DataLoader(dataset[split_idx[\"valid\"]], batch_size=args.bsz, shuffle = False)\n",
    "test_loader  = DataLoader(dataset[split_idx[\"test\"]],  batch_size=args.bsz, shuffle = False)"
   ]
  },
  {
   "cell_type": "code",
   "execution_count": 5,
   "metadata": {},
   "outputs": [
    {
     "name": "stdout",
     "output_type": "stream",
     "text": [
      "Model #Params: 10338817\n"
     ]
    },
    {
     "name": "stderr",
     "output_type": "stream",
     "text": [
      "/opt/conda/lib/python3.6/site-packages/torch/optim/lr_scheduler.py:123: UserWarning: Detected call of `lr_scheduler.step()` before `optimizer.step()`. In PyTorch 1.1.0 and later, you should call them in the opposite order: `optimizer.step()` before `lr_scheduler.step()`.  Failure to do this will result in PyTorch skipping the first value of the learning rate schedule. See more details at https://pytorch.org/docs/stable/optim.html#how-to-adjust-learning-rate\n",
      "  \"https://pytorch.org/docs/stable/optim.html#how-to-adjust-learning-rate\", UserWarning)\n",
      "/opt/conda/lib/python3.6/site-packages/torch/optim/lr_scheduler.py:143: UserWarning: The epoch parameter in `scheduler.step()` was not necessary and is being deprecated where possible. Please use `scheduler.step()` to step the scheduler. During the deprecation, if epoch is different from None, the closed form is used instead of the new chainable form, where available. Please open an issue if you are unable to replicate your use case: https://github.com/pytorch/pytorch/issues/new/choose.\n",
      "  warnings.warn(EPOCH_DEPRECATION_WARNING, UserWarning)\n"
     ]
    }
   ],
   "source": [
    "print('Model #Params: %d' % get_n_params(model))\n",
    "\n",
    "criterion = torch.nn.BCEWithLogitsLoss(reduction = \"mean\")\n",
    "\n",
    "optimizer = get_optimizer(model, weight_decay = args.weight_decay, learning_rate = args.lr)\n",
    "\n",
    "scheduler = torch.optim.lr_scheduler.CosineAnnealingLR(optimizer, 500, eta_min=1e-6)\n",
    "scheduler.step(-500)"
   ]
  },
  {
   "cell_type": "code",
   "execution_count": 6,
   "metadata": {},
   "outputs": [
    {
     "name": "stderr",
     "output_type": "stream",
     "text": [
      "/opt/conda/lib/python3.6/site-packages/statsmodels/tools/_testing.py:19: FutureWarning: pandas.util.testing is deprecated. Use the functions in the public API at pandas.testing instead.\n",
      "  import pandas.util.testing as tm\n"
     ]
    }
   ],
   "source": [
    "import seaborn as sb\n",
    "def mat_visualize(node_size, edge_index, edge_attr):\n",
    "    mat = np.zeros((node_size, node_size))\n",
    "    for e, v in zip(edge_index, edge_attr):\n",
    "        mat[e[0]][e[1]] = v\n",
    "    sb.heatmap(mat)"
   ]
  },
  {
   "cell_type": "code",
   "execution_count": 7,
   "metadata": {},
   "outputs": [],
   "source": [
    "def turn_prob(inp):\n",
    "    prob = torch.sigmoid(inp)\n",
    "    prob = torch.cat([prob, 1-prob], dim=1)\n",
    "    return prob"
   ]
  },
  {
   "cell_type": "code",
   "execution_count": 8,
   "metadata": {},
   "outputs": [],
   "source": [
    "train_mask = torch.zeros(len(dataset), dtype=bool)\n",
    "valid_mask = torch.zeros(len(dataset), dtype=bool)\n",
    "test_mask = torch.zeros(len(dataset), dtype=bool)\n",
    "\n",
    "train_mask[split_idx[\"train\"]] = True\n",
    "valid_mask[split_idx[\"valid\"]] = True\n",
    "test_mask[split_idx[\"test\"]] = True\n",
    "def entropy_loss(pred, label):\n",
    "    return torch.mean(torch.sum(-label * pred, dim=1))"
   ]
  },
  {
   "cell_type": "code",
   "execution_count": 9,
   "metadata": {
    "scrolled": false
   },
   "outputs": [
    {
     "name": "stderr",
     "output_type": "stream",
     "text": [
      "100%|██████████| 91/91 [01:37<00:00,  1.07s/it]\n",
      "100%|██████████| 10/10 [00:03<00:00,  2.50it/s]\n",
      "  0%|          | 0/91 [00:00<?, ?it/s]"
     ]
    },
    {
     "name": "stdout",
     "output_type": "stream",
     "text": [
      "Epoch 1: LR: 0.00002, Train loss: 0.267 Train rocauc: 0.512 Train Adv: 0.361 Valid loss: 0.093  Valid rocauc: 0.402         Test loss: 0.156  Test rocauc: 0.392\n"
     ]
    },
    {
     "name": "stderr",
     "output_type": "stream",
     "text": [
      "100%|██████████| 91/91 [01:43<00:00,  1.13s/it]\n",
      "100%|██████████| 10/10 [00:04<00:00,  2.33it/s]\n",
      "  0%|          | 0/91 [00:00<?, ?it/s]"
     ]
    },
    {
     "name": "stdout",
     "output_type": "stream",
     "text": [
      "Epoch 2: LR: 0.00009, Train loss: 0.162 Train rocauc: 0.495 Train Adv: 0.157 Valid loss: 0.092  Valid rocauc: 0.620         Test loss: 0.156  Test rocauc: 0.620\n"
     ]
    },
    {
     "name": "stderr",
     "output_type": "stream",
     "text": [
      "100%|██████████| 91/91 [01:41<00:00,  1.12s/it]\n",
      "100%|██████████| 10/10 [00:03<00:00,  2.62it/s]\n",
      "  0%|          | 0/91 [00:00<?, ?it/s]"
     ]
    },
    {
     "name": "stdout",
     "output_type": "stream",
     "text": [
      "Epoch 3: LR: 0.00017, Train loss: 0.161 Train rocauc: 0.523 Train Adv: 0.161 Valid loss: 0.090  Valid rocauc: 0.647         Test loss: 0.149  Test rocauc: 0.653\n"
     ]
    },
    {
     "name": "stderr",
     "output_type": "stream",
     "text": [
      "100%|██████████| 91/91 [01:40<00:00,  1.10s/it]\n",
      "100%|██████████| 10/10 [00:03<00:00,  2.66it/s]\n",
      "  0%|          | 0/91 [00:00<?, ?it/s]"
     ]
    },
    {
     "name": "stdout",
     "output_type": "stream",
     "text": [
      "Epoch 4: LR: 0.00025, Train loss: 0.159 Train rocauc: 0.571 Train Adv: 0.156 Valid loss: 0.085  Valid rocauc: 0.729         Test loss: 0.136  Test rocauc: 0.685\n"
     ]
    },
    {
     "name": "stderr",
     "output_type": "stream",
     "text": [
      "100%|██████████| 91/91 [01:40<00:00,  1.10s/it]\n",
      "100%|██████████| 10/10 [00:03<00:00,  2.51it/s]\n",
      "  0%|          | 0/91 [00:00<?, ?it/s]"
     ]
    },
    {
     "name": "stdout",
     "output_type": "stream",
     "text": [
      "Epoch 5: LR: 0.00029, Train loss: 0.151 Train rocauc: 0.674 Train Adv: 0.157 Valid loss: 0.089  Valid rocauc: 0.697         Test loss: 0.132  Test rocauc: 0.696\n"
     ]
    },
    {
     "name": "stderr",
     "output_type": "stream",
     "text": [
      "100%|██████████| 91/91 [01:37<00:00,  1.08s/it]\n",
      "100%|██████████| 10/10 [00:03<00:00,  2.55it/s]\n",
      "  0%|          | 0/91 [00:00<?, ?it/s]"
     ]
    },
    {
     "name": "stdout",
     "output_type": "stream",
     "text": [
      "Epoch 6: LR: 0.00029, Train loss: 0.145 Train rocauc: 0.703 Train Adv: 0.149 Valid loss: 0.085  Valid rocauc: 0.719         Test loss: 0.128  Test rocauc: 0.717\n"
     ]
    },
    {
     "name": "stderr",
     "output_type": "stream",
     "text": [
      "100%|██████████| 91/91 [01:40<00:00,  1.10s/it]\n",
      "100%|██████████| 10/10 [00:04<00:00,  2.41it/s]\n",
      "  0%|          | 0/91 [00:00<?, ?it/s]"
     ]
    },
    {
     "name": "stdout",
     "output_type": "stream",
     "text": [
      "Epoch 7: LR: 0.00025, Train loss: 0.138 Train rocauc: 0.742 Train Adv: 0.144 Valid loss: 0.077  Valid rocauc: 0.779         Test loss: 0.134  Test rocauc: 0.694\n"
     ]
    },
    {
     "name": "stderr",
     "output_type": "stream",
     "text": [
      "100%|██████████| 91/91 [01:42<00:00,  1.13s/it]\n",
      "100%|██████████| 10/10 [00:03<00:00,  2.63it/s]\n",
      "  0%|          | 0/91 [00:00<?, ?it/s]"
     ]
    },
    {
     "name": "stdout",
     "output_type": "stream",
     "text": [
      "Epoch 8: LR: 0.00017, Train loss: 0.136 Train rocauc: 0.741 Train Adv: 0.143 Valid loss: 0.083  Valid rocauc: 0.763         Test loss: 0.126  Test rocauc: 0.713\n"
     ]
    },
    {
     "name": "stderr",
     "output_type": "stream",
     "text": [
      "100%|██████████| 91/91 [01:41<00:00,  1.12s/it]\n",
      "100%|██████████| 10/10 [00:03<00:00,  2.51it/s]\n",
      "  0%|          | 0/91 [00:00<?, ?it/s]"
     ]
    },
    {
     "name": "stdout",
     "output_type": "stream",
     "text": [
      "Epoch 9: LR: 0.00009, Train loss: 0.134 Train rocauc: 0.754 Train Adv: 0.138 Valid loss: 0.086  Valid rocauc: 0.785         Test loss: 0.130  Test rocauc: 0.733\n"
     ]
    },
    {
     "name": "stderr",
     "output_type": "stream",
     "text": [
      "100%|██████████| 91/91 [01:39<00:00,  1.09s/it]\n",
      "100%|██████████| 10/10 [00:04<00:00,  2.48it/s]\n",
      "  0%|          | 0/91 [00:00<?, ?it/s]"
     ]
    },
    {
     "name": "stdout",
     "output_type": "stream",
     "text": [
      "Epoch 10: LR: 0.00002, Train loss: 0.131 Train rocauc: 0.767 Train Adv: 0.138 Valid loss: 0.080  Valid rocauc: 0.788         Test loss: 0.124  Test rocauc: 0.739\n"
     ]
    },
    {
     "name": "stderr",
     "output_type": "stream",
     "text": [
      "100%|██████████| 91/91 [01:40<00:00,  1.10s/it]\n",
      "100%|██████████| 10/10 [00:04<00:00,  2.46it/s]\n",
      "  0%|          | 0/91 [00:00<?, ?it/s]"
     ]
    },
    {
     "name": "stdout",
     "output_type": "stream",
     "text": [
      "Epoch 11: LR: 0.00000, Train loss: 0.129 Train rocauc: 0.777 Train Adv: 0.132 Valid loss: 0.078  Valid rocauc: 0.786         Test loss: 0.123  Test rocauc: 0.738\n"
     ]
    },
    {
     "name": "stderr",
     "output_type": "stream",
     "text": [
      "100%|██████████| 91/91 [01:40<00:00,  1.10s/it]\n",
      "100%|██████████| 10/10 [00:03<00:00,  2.65it/s]\n",
      "  0%|          | 0/91 [00:00<?, ?it/s]"
     ]
    },
    {
     "name": "stdout",
     "output_type": "stream",
     "text": [
      "Epoch 12: LR: 0.00003, Train loss: 0.128 Train rocauc: 0.776 Train Adv: 0.137 Valid loss: 0.077  Valid rocauc: 0.785         Test loss: 0.123  Test rocauc: 0.738\n"
     ]
    },
    {
     "name": "stderr",
     "output_type": "stream",
     "text": [
      "100%|██████████| 91/91 [01:39<00:00,  1.09s/it]\n",
      "100%|██████████| 10/10 [00:03<00:00,  2.66it/s]\n",
      "  0%|          | 0/91 [00:00<?, ?it/s]"
     ]
    },
    {
     "name": "stdout",
     "output_type": "stream",
     "text": [
      "Epoch 13: LR: 0.00009, Train loss: 0.129 Train rocauc: 0.778 Train Adv: 0.137 Valid loss: 0.078  Valid rocauc: 0.784         Test loss: 0.121  Test rocauc: 0.744\n"
     ]
    },
    {
     "name": "stderr",
     "output_type": "stream",
     "text": [
      "100%|██████████| 91/91 [01:39<00:00,  1.09s/it]\n",
      "100%|██████████| 10/10 [00:03<00:00,  2.67it/s]\n",
      "  0%|          | 0/91 [00:00<?, ?it/s]"
     ]
    },
    {
     "name": "stdout",
     "output_type": "stream",
     "text": [
      "Epoch 14: LR: 0.00017, Train loss: 0.129 Train rocauc: 0.774 Train Adv: 0.138 Valid loss: 0.073  Valid rocauc: 0.790         Test loss: 0.122  Test rocauc: 0.746\n"
     ]
    },
    {
     "name": "stderr",
     "output_type": "stream",
     "text": [
      "100%|██████████| 91/91 [01:42<00:00,  1.12s/it]\n",
      "100%|██████████| 10/10 [00:03<00:00,  2.58it/s]\n",
      "  0%|          | 0/91 [00:00<?, ?it/s]"
     ]
    },
    {
     "name": "stdout",
     "output_type": "stream",
     "text": [
      "Epoch 15: LR: 0.00025, Train loss: 0.129 Train rocauc: 0.775 Train Adv: 0.138 Valid loss: 0.080  Valid rocauc: 0.789         Test loss: 0.127  Test rocauc: 0.726\n"
     ]
    },
    {
     "name": "stderr",
     "output_type": "stream",
     "text": [
      "100%|██████████| 91/91 [01:43<00:00,  1.14s/it]\n",
      "100%|██████████| 10/10 [00:03<00:00,  2.57it/s]\n",
      "  0%|          | 0/91 [00:00<?, ?it/s]"
     ]
    },
    {
     "name": "stdout",
     "output_type": "stream",
     "text": [
      "Epoch 16: LR: 0.00029, Train loss: 0.130 Train rocauc: 0.767 Train Adv: 0.137 Valid loss: 0.073  Valid rocauc: 0.789         Test loss: 0.120  Test rocauc: 0.762\n"
     ]
    },
    {
     "name": "stderr",
     "output_type": "stream",
     "text": [
      "100%|██████████| 91/91 [01:43<00:00,  1.13s/it]\n",
      "100%|██████████| 10/10 [00:04<00:00,  2.34it/s]\n",
      "  0%|          | 0/91 [00:00<?, ?it/s]"
     ]
    },
    {
     "name": "stdout",
     "output_type": "stream",
     "text": [
      "Epoch 17: LR: 0.00029, Train loss: 0.130 Train rocauc: 0.764 Train Adv: 0.137 Valid loss: 0.078  Valid rocauc: 0.792         Test loss: 0.123  Test rocauc: 0.752\n"
     ]
    },
    {
     "name": "stderr",
     "output_type": "stream",
     "text": [
      "100%|██████████| 91/91 [01:42<00:00,  1.12s/it]\n",
      "100%|██████████| 10/10 [00:04<00:00,  2.36it/s]\n",
      "  0%|          | 0/91 [00:00<?, ?it/s]"
     ]
    },
    {
     "name": "stdout",
     "output_type": "stream",
     "text": [
      "Epoch 18: LR: 0.00025, Train loss: 0.129 Train rocauc: 0.769 Train Adv: 0.137 Valid loss: 0.077  Valid rocauc: 0.789         Test loss: 0.127  Test rocauc: 0.732\n"
     ]
    },
    {
     "name": "stderr",
     "output_type": "stream",
     "text": [
      "100%|██████████| 91/91 [01:36<00:00,  1.06s/it]\n",
      "100%|██████████| 10/10 [00:03<00:00,  2.72it/s]\n",
      "  0%|          | 0/91 [00:00<?, ?it/s]"
     ]
    },
    {
     "name": "stdout",
     "output_type": "stream",
     "text": [
      "Epoch 19: LR: 0.00017, Train loss: 0.126 Train rocauc: 0.777 Train Adv: 0.135 Valid loss: 0.075  Valid rocauc: 0.797         Test loss: 0.120  Test rocauc: 0.747\n"
     ]
    },
    {
     "name": "stderr",
     "output_type": "stream",
     "text": [
      "100%|██████████| 91/91 [01:39<00:00,  1.09s/it]\n",
      "100%|██████████| 10/10 [00:03<00:00,  2.52it/s]\n",
      "  0%|          | 0/91 [00:00<?, ?it/s]"
     ]
    },
    {
     "name": "stdout",
     "output_type": "stream",
     "text": [
      "Epoch 20: LR: 0.00009, Train loss: 0.123 Train rocauc: 0.794 Train Adv: 0.132 Valid loss: 0.081  Valid rocauc: 0.781         Test loss: 0.123  Test rocauc: 0.740\n"
     ]
    },
    {
     "name": "stderr",
     "output_type": "stream",
     "text": [
      "100%|██████████| 91/91 [01:41<00:00,  1.11s/it]\n",
      "100%|██████████| 10/10 [00:04<00:00,  2.50it/s]\n",
      "  0%|          | 0/91 [00:00<?, ?it/s]"
     ]
    },
    {
     "name": "stdout",
     "output_type": "stream",
     "text": [
      "Epoch 21: LR: 0.00002, Train loss: 0.120 Train rocauc: 0.800 Train Adv: 0.129 Valid loss: 0.076  Valid rocauc: 0.792         Test loss: 0.121  Test rocauc: 0.745\n"
     ]
    },
    {
     "name": "stderr",
     "output_type": "stream",
     "text": [
      "100%|██████████| 91/91 [01:41<00:00,  1.11s/it]\n",
      "100%|██████████| 10/10 [00:04<00:00,  2.42it/s]\n",
      "  0%|          | 0/91 [00:00<?, ?it/s]"
     ]
    },
    {
     "name": "stdout",
     "output_type": "stream",
     "text": [
      "Epoch 22: LR: 0.00000, Train loss: 0.119 Train rocauc: 0.803 Train Adv: 0.129 Valid loss: 0.076  Valid rocauc: 0.791         Test loss: 0.122  Test rocauc: 0.746\n"
     ]
    },
    {
     "name": "stderr",
     "output_type": "stream",
     "text": [
      "100%|██████████| 91/91 [01:42<00:00,  1.13s/it]\n",
      "100%|██████████| 10/10 [00:04<00:00,  2.48it/s]\n",
      "  0%|          | 0/91 [00:00<?, ?it/s]"
     ]
    },
    {
     "name": "stdout",
     "output_type": "stream",
     "text": [
      "Epoch 23: LR: 0.00003, Train loss: 0.118 Train rocauc: 0.806 Train Adv: 0.128 Valid loss: 0.075  Valid rocauc: 0.792         Test loss: 0.121  Test rocauc: 0.747\n"
     ]
    },
    {
     "name": "stderr",
     "output_type": "stream",
     "text": [
      "100%|██████████| 91/91 [01:39<00:00,  1.10s/it]\n",
      "100%|██████████| 10/10 [00:03<00:00,  2.73it/s]\n",
      "  0%|          | 0/91 [00:00<?, ?it/s]"
     ]
    },
    {
     "name": "stdout",
     "output_type": "stream",
     "text": [
      "Epoch 24: LR: 0.00009, Train loss: 0.119 Train rocauc: 0.803 Train Adv: 0.129 Valid loss: 0.075  Valid rocauc: 0.809         Test loss: 0.122  Test rocauc: 0.749\n"
     ]
    },
    {
     "name": "stderr",
     "output_type": "stream",
     "text": [
      "100%|██████████| 91/91 [01:39<00:00,  1.10s/it]\n",
      "100%|██████████| 10/10 [00:03<00:00,  2.55it/s]\n",
      "  0%|          | 0/91 [00:00<?, ?it/s]"
     ]
    },
    {
     "name": "stdout",
     "output_type": "stream",
     "text": [
      "Epoch 25: LR: 0.00017, Train loss: 0.119 Train rocauc: 0.796 Train Adv: 0.130 Valid loss: 0.079  Valid rocauc: 0.794         Test loss: 0.122  Test rocauc: 0.763\n"
     ]
    },
    {
     "name": "stderr",
     "output_type": "stream",
     "text": [
      "100%|██████████| 91/91 [01:41<00:00,  1.11s/it]\n",
      "100%|██████████| 10/10 [00:04<00:00,  2.42it/s]\n",
      "  0%|          | 0/91 [00:00<?, ?it/s]"
     ]
    },
    {
     "name": "stdout",
     "output_type": "stream",
     "text": [
      "Epoch 26: LR: 0.00025, Train loss: 0.123 Train rocauc: 0.794 Train Adv: 0.134 Valid loss: 0.074  Valid rocauc: 0.774         Test loss: 0.124  Test rocauc: 0.734\n"
     ]
    },
    {
     "name": "stderr",
     "output_type": "stream",
     "text": [
      "100%|██████████| 91/91 [01:39<00:00,  1.09s/it]\n",
      "100%|██████████| 10/10 [00:04<00:00,  2.41it/s]\n",
      "  0%|          | 0/91 [00:00<?, ?it/s]"
     ]
    },
    {
     "name": "stdout",
     "output_type": "stream",
     "text": [
      "Epoch 27: LR: 0.00029, Train loss: 0.124 Train rocauc: 0.786 Train Adv: 0.134 Valid loss: 0.073  Valid rocauc: 0.781         Test loss: 0.121  Test rocauc: 0.750\n"
     ]
    },
    {
     "name": "stderr",
     "output_type": "stream",
     "text": [
      "100%|██████████| 91/91 [01:43<00:00,  1.13s/it]\n",
      "100%|██████████| 10/10 [00:03<00:00,  2.71it/s]\n",
      "  0%|          | 0/91 [00:00<?, ?it/s]"
     ]
    },
    {
     "name": "stdout",
     "output_type": "stream",
     "text": [
      "Epoch 28: LR: 0.00029, Train loss: 0.125 Train rocauc: 0.777 Train Adv: 0.135 Valid loss: 0.076  Valid rocauc: 0.778         Test loss: 0.120  Test rocauc: 0.754\n"
     ]
    },
    {
     "name": "stderr",
     "output_type": "stream",
     "text": [
      "100%|██████████| 91/91 [01:38<00:00,  1.08s/it]\n",
      "100%|██████████| 10/10 [00:03<00:00,  2.72it/s]\n",
      "  0%|          | 0/91 [00:00<?, ?it/s]"
     ]
    },
    {
     "name": "stdout",
     "output_type": "stream",
     "text": [
      "Epoch 29: LR: 0.00025, Train loss: 0.125 Train rocauc: 0.783 Train Adv: 0.138 Valid loss: 0.083  Valid rocauc: 0.749         Test loss: 0.125  Test rocauc: 0.742\n"
     ]
    },
    {
     "name": "stderr",
     "output_type": "stream",
     "text": [
      "100%|██████████| 91/91 [01:42<00:00,  1.13s/it]\n",
      "100%|██████████| 10/10 [00:03<00:00,  2.65it/s]\n",
      "  0%|          | 0/91 [00:00<?, ?it/s]"
     ]
    },
    {
     "name": "stdout",
     "output_type": "stream",
     "text": [
      "Epoch 30: LR: 0.00017, Train loss: 0.121 Train rocauc: 0.792 Train Adv: 0.134 Valid loss: 0.076  Valid rocauc: 0.763         Test loss: 0.116  Test rocauc: 0.768\n"
     ]
    },
    {
     "name": "stderr",
     "output_type": "stream",
     "text": [
      "100%|██████████| 91/91 [01:37<00:00,  1.08s/it]\n",
      "100%|██████████| 10/10 [00:04<00:00,  2.45it/s]\n",
      "  0%|          | 0/91 [00:00<?, ?it/s]"
     ]
    },
    {
     "name": "stdout",
     "output_type": "stream",
     "text": [
      "Epoch 31: LR: 0.00009, Train loss: 0.119 Train rocauc: 0.805 Train Adv: 0.127 Valid loss: 0.075  Valid rocauc: 0.781         Test loss: 0.118  Test rocauc: 0.752\n"
     ]
    },
    {
     "name": "stderr",
     "output_type": "stream",
     "text": [
      "100%|██████████| 91/91 [01:38<00:00,  1.08s/it]\n",
      "100%|██████████| 10/10 [00:03<00:00,  2.62it/s]\n",
      "  0%|          | 0/91 [00:00<?, ?it/s]"
     ]
    },
    {
     "name": "stdout",
     "output_type": "stream",
     "text": [
      "Epoch 32: LR: 0.00002, Train loss: 0.115 Train rocauc: 0.812 Train Adv: 0.129 Valid loss: 0.076  Valid rocauc: 0.784         Test loss: 0.121  Test rocauc: 0.753\n"
     ]
    },
    {
     "name": "stderr",
     "output_type": "stream",
     "text": [
      "100%|██████████| 91/91 [01:36<00:00,  1.06s/it]\n",
      "100%|██████████| 10/10 [00:03<00:00,  2.77it/s]\n",
      "  0%|          | 0/91 [00:00<?, ?it/s]"
     ]
    },
    {
     "name": "stdout",
     "output_type": "stream",
     "text": [
      "Epoch 33: LR: 0.00000, Train loss: 0.114 Train rocauc: 0.821 Train Adv: 0.123 Valid loss: 0.076  Valid rocauc: 0.787         Test loss: 0.121  Test rocauc: 0.750\n"
     ]
    },
    {
     "name": "stderr",
     "output_type": "stream",
     "text": [
      "100%|██████████| 91/91 [01:38<00:00,  1.08s/it]\n",
      "100%|██████████| 10/10 [00:03<00:00,  2.64it/s]\n",
      "  0%|          | 0/91 [00:00<?, ?it/s]"
     ]
    },
    {
     "name": "stdout",
     "output_type": "stream",
     "text": [
      "Epoch 34: LR: 0.00003, Train loss: 0.113 Train rocauc: 0.821 Train Adv: 0.124 Valid loss: 0.077  Valid rocauc: 0.786         Test loss: 0.121  Test rocauc: 0.749\n"
     ]
    },
    {
     "name": "stderr",
     "output_type": "stream",
     "text": [
      "100%|██████████| 91/91 [01:35<00:00,  1.05s/it]\n",
      "100%|██████████| 10/10 [00:03<00:00,  2.75it/s]\n",
      "  0%|          | 0/91 [00:00<?, ?it/s]"
     ]
    },
    {
     "name": "stdout",
     "output_type": "stream",
     "text": [
      "Epoch 35: LR: 0.00009, Train loss: 0.114 Train rocauc: 0.818 Train Adv: 0.126 Valid loss: 0.071  Valid rocauc: 0.800         Test loss: 0.120  Test rocauc: 0.748\n"
     ]
    },
    {
     "name": "stderr",
     "output_type": "stream",
     "text": [
      "100%|██████████| 91/91 [01:39<00:00,  1.10s/it]\n",
      "100%|██████████| 10/10 [00:03<00:00,  2.66it/s]\n",
      "  0%|          | 0/91 [00:00<?, ?it/s]"
     ]
    },
    {
     "name": "stdout",
     "output_type": "stream",
     "text": [
      "Epoch 36: LR: 0.00017, Train loss: 0.114 Train rocauc: 0.818 Train Adv: 0.128 Valid loss: 0.072  Valid rocauc: 0.798         Test loss: 0.120  Test rocauc: 0.750\n"
     ]
    },
    {
     "name": "stderr",
     "output_type": "stream",
     "text": [
      "100%|██████████| 91/91 [01:39<00:00,  1.09s/it]\n",
      "100%|██████████| 10/10 [00:04<00:00,  2.43it/s]\n",
      "  0%|          | 0/91 [00:00<?, ?it/s]"
     ]
    },
    {
     "name": "stdout",
     "output_type": "stream",
     "text": [
      "Epoch 37: LR: 0.00025, Train loss: 0.117 Train rocauc: 0.809 Train Adv: 0.130 Valid loss: 0.071  Valid rocauc: 0.831         Test loss: 0.121  Test rocauc: 0.769\n"
     ]
    },
    {
     "name": "stderr",
     "output_type": "stream",
     "text": [
      "100%|██████████| 91/91 [01:37<00:00,  1.07s/it]\n",
      "100%|██████████| 10/10 [00:03<00:00,  2.75it/s]\n",
      "  0%|          | 0/91 [00:00<?, ?it/s]"
     ]
    },
    {
     "name": "stdout",
     "output_type": "stream",
     "text": [
      "Epoch 38: LR: 0.00029, Train loss: 0.120 Train rocauc: 0.795 Train Adv: 0.129 Valid loss: 0.077  Valid rocauc: 0.806         Test loss: 0.128  Test rocauc: 0.731\n"
     ]
    },
    {
     "name": "stderr",
     "output_type": "stream",
     "text": [
      "100%|██████████| 91/91 [01:42<00:00,  1.13s/it]\n",
      "100%|██████████| 10/10 [00:04<00:00,  2.46it/s]\n",
      "  0%|          | 0/91 [00:00<?, ?it/s]"
     ]
    },
    {
     "name": "stdout",
     "output_type": "stream",
     "text": [
      "Epoch 39: LR: 0.00029, Train loss: 0.121 Train rocauc: 0.789 Train Adv: 0.134 Valid loss: 0.076  Valid rocauc: 0.779         Test loss: 0.125  Test rocauc: 0.745\n"
     ]
    },
    {
     "name": "stderr",
     "output_type": "stream",
     "text": [
      "100%|██████████| 91/91 [01:40<00:00,  1.11s/it]\n",
      "100%|██████████| 10/10 [00:03<00:00,  2.61it/s]\n",
      "  0%|          | 0/91 [00:00<?, ?it/s]"
     ]
    },
    {
     "name": "stdout",
     "output_type": "stream",
     "text": [
      "Epoch 40: LR: 0.00025, Train loss: 0.122 Train rocauc: 0.797 Train Adv: 0.136 Valid loss: 0.074  Valid rocauc: 0.797         Test loss: 0.123  Test rocauc: 0.746\n"
     ]
    },
    {
     "name": "stderr",
     "output_type": "stream",
     "text": [
      "100%|██████████| 91/91 [01:41<00:00,  1.12s/it]\n",
      "100%|██████████| 10/10 [00:03<00:00,  2.61it/s]\n",
      "  0%|          | 0/91 [00:00<?, ?it/s]"
     ]
    },
    {
     "name": "stdout",
     "output_type": "stream",
     "text": [
      "Epoch 41: LR: 0.00017, Train loss: 0.119 Train rocauc: 0.808 Train Adv: 0.131 Valid loss: 0.080  Valid rocauc: 0.807         Test loss: 0.126  Test rocauc: 0.738\n"
     ]
    },
    {
     "name": "stderr",
     "output_type": "stream",
     "text": [
      "100%|██████████| 91/91 [01:38<00:00,  1.08s/it]\n",
      "100%|██████████| 10/10 [00:04<00:00,  2.41it/s]\n",
      "  0%|          | 0/91 [00:00<?, ?it/s]"
     ]
    },
    {
     "name": "stdout",
     "output_type": "stream",
     "text": [
      "Epoch 42: LR: 0.00009, Train loss: 0.115 Train rocauc: 0.819 Train Adv: 0.128 Valid loss: 0.076  Valid rocauc: 0.809         Test loss: 0.125  Test rocauc: 0.738\n"
     ]
    },
    {
     "name": "stderr",
     "output_type": "stream",
     "text": [
      "100%|██████████| 91/91 [01:40<00:00,  1.11s/it]\n",
      "100%|██████████| 10/10 [00:03<00:00,  2.63it/s]\n",
      "  0%|          | 0/91 [00:00<?, ?it/s]"
     ]
    },
    {
     "name": "stdout",
     "output_type": "stream",
     "text": [
      "Epoch 43: LR: 0.00002, Train loss: 0.112 Train rocauc: 0.824 Train Adv: 0.125 Valid loss: 0.074  Valid rocauc: 0.814         Test loss: 0.122  Test rocauc: 0.746\n"
     ]
    },
    {
     "name": "stderr",
     "output_type": "stream",
     "text": [
      "100%|██████████| 91/91 [01:39<00:00,  1.09s/it]\n",
      "100%|██████████| 10/10 [00:03<00:00,  2.79it/s]\n",
      "  0%|          | 0/91 [00:00<?, ?it/s]"
     ]
    },
    {
     "name": "stdout",
     "output_type": "stream",
     "text": [
      "Epoch 44: LR: 0.00000, Train loss: 0.109 Train rocauc: 0.834 Train Adv: 0.122 Valid loss: 0.076  Valid rocauc: 0.811         Test loss: 0.124  Test rocauc: 0.748\n"
     ]
    },
    {
     "name": "stderr",
     "output_type": "stream",
     "text": [
      "100%|██████████| 91/91 [01:37<00:00,  1.08s/it]\n",
      "100%|██████████| 10/10 [00:03<00:00,  2.55it/s]\n",
      "  0%|          | 0/91 [00:00<?, ?it/s]"
     ]
    },
    {
     "name": "stdout",
     "output_type": "stream",
     "text": [
      "Epoch 45: LR: 0.00003, Train loss: 0.109 Train rocauc: 0.833 Train Adv: 0.120 Valid loss: 0.075  Valid rocauc: 0.812         Test loss: 0.123  Test rocauc: 0.750\n"
     ]
    },
    {
     "name": "stderr",
     "output_type": "stream",
     "text": [
      "100%|██████████| 91/91 [01:38<00:00,  1.08s/it]\n",
      "100%|██████████| 10/10 [00:03<00:00,  2.69it/s]\n",
      "  0%|          | 0/91 [00:00<?, ?it/s]"
     ]
    },
    {
     "name": "stdout",
     "output_type": "stream",
     "text": [
      "Epoch 46: LR: 0.00009, Train loss: 0.110 Train rocauc: 0.826 Train Adv: 0.124 Valid loss: 0.077  Valid rocauc: 0.801         Test loss: 0.122  Test rocauc: 0.751\n"
     ]
    },
    {
     "name": "stderr",
     "output_type": "stream",
     "text": [
      "100%|██████████| 91/91 [01:37<00:00,  1.07s/it]\n",
      "100%|██████████| 10/10 [00:03<00:00,  2.66it/s]\n",
      "  0%|          | 0/91 [00:00<?, ?it/s]"
     ]
    },
    {
     "name": "stdout",
     "output_type": "stream",
     "text": [
      "Epoch 47: LR: 0.00018, Train loss: 0.112 Train rocauc: 0.823 Train Adv: 0.123 Valid loss: 0.081  Valid rocauc: 0.777         Test loss: 0.124  Test rocauc: 0.745\n"
     ]
    },
    {
     "name": "stderr",
     "output_type": "stream",
     "text": [
      "100%|██████████| 91/91 [01:37<00:00,  1.08s/it]\n",
      "100%|██████████| 10/10 [00:03<00:00,  2.57it/s]\n",
      "  0%|          | 0/91 [00:00<?, ?it/s]"
     ]
    },
    {
     "name": "stdout",
     "output_type": "stream",
     "text": [
      "Epoch 48: LR: 0.00025, Train loss: 0.114 Train rocauc: 0.818 Train Adv: 0.126 Valid loss: 0.079  Valid rocauc: 0.796         Test loss: 0.132  Test rocauc: 0.752\n"
     ]
    },
    {
     "name": "stderr",
     "output_type": "stream",
     "text": [
      "100%|██████████| 91/91 [01:36<00:00,  1.06s/it]\n",
      "100%|██████████| 10/10 [00:03<00:00,  2.76it/s]\n",
      "  0%|          | 0/91 [00:00<?, ?it/s]"
     ]
    },
    {
     "name": "stdout",
     "output_type": "stream",
     "text": [
      "Epoch 49: LR: 0.00030, Train loss: 0.117 Train rocauc: 0.809 Train Adv: 0.130 Valid loss: 0.080  Valid rocauc: 0.797         Test loss: 0.124  Test rocauc: 0.748\n"
     ]
    },
    {
     "name": "stderr",
     "output_type": "stream",
     "text": [
      "100%|██████████| 91/91 [01:35<00:00,  1.05s/it]\n",
      "100%|██████████| 10/10 [00:03<00:00,  2.80it/s]\n"
     ]
    },
    {
     "name": "stdout",
     "output_type": "stream",
     "text": [
      "Epoch 50: LR: 0.00029, Train loss: 0.121 Train rocauc: 0.791 Train Adv: 0.132 Valid loss: 0.073  Valid rocauc: 0.788         Test loss: 0.122  Test rocauc: 0.742\n"
     ]
    }
   ],
   "source": [
    "stats = []\n",
    "for epoch in range(args.num_epochs):\n",
    "    model.train()\n",
    "    train_loss = []\n",
    "    train_adv  = []\n",
    "    y_true = []\n",
    "    y_scores = []\n",
    "    all_idx = torch.randperm(len(dataset))\n",
    "    for batch_idx in tqdm(range(len(all_idx) // args.bsz)):\n",
    "        batch = all_idx[batch_idx * args.bsz : (batch_idx + 1) * args.bsz]\n",
    "        train_msk = train_mask[batch]    \n",
    "        data = Batch.from_data_list(dataset[batch])\n",
    "        data.to(args.device)\n",
    "        \n",
    "        strats = {'ea': data.edge_attr, \\\n",
    "#                  **{('sym_' + str(k)): data['sym_edge_attr_' + str(k)] for k in range(1, args.k_hop_neighbors + 1)}, \\\n",
    "                 **{('rw_' + str(k)): data['rw_edge_attr_' + str(k)] for k in range(1, args.k_hop_neighbors + 1)}}\n",
    "#         strats = {'ea': data.edge_attr, 'rw': data.rw_edge_attr}\n",
    "        out, _ = model(data.x, data.batch, data.edge_index, strats)\n",
    "        with torch.no_grad():\n",
    "            strats = {'ea': data.edge_attr, \\\n",
    "#                   **{('sym_' + str(k)): data['sym_edge_attr_' + str(k)] for k in range(1, args.k_hop_neighbors + 1)}, \\\n",
    "                 **{('rw_' + str(k)): data['rw_edge_attr_' + str(k)] for k in range(1, args.k_hop_neighbors + 1)}}\n",
    "#             strats = {'ea': data.edge_attr, 'rw': data.rw_edge_attr}\n",
    "            adv_out, _ = model(data.x, data.batch, data.edge_index, strats)\n",
    "        \n",
    "        loss = criterion(out[train_msk], data.y[train_msk].float())\n",
    "        # loss = criterion(out, data.y.float())\n",
    "        adv_loss = entropy_loss(turn_prob(out[train_msk]).log(), turn_prob(adv_out[train_msk]))\n",
    "        (loss + 0.5 * adv_loss).backward()\n",
    "        optimizer.step()\n",
    "        optimizer.zero_grad()\n",
    "        scheduler.step()\n",
    "        \n",
    "        train_loss += [loss.item()]\n",
    "        train_adv  += [adv_loss.item()]\n",
    "        \n",
    "        y_true += [data.y]\n",
    "        y_scores += [out]\n",
    "\n",
    "    input_dict = {\"y_true\": torch.cat(y_true), \"y_pred\": torch.cat(y_scores)}\n",
    "    train_metric = evaluator.eval(input_dict)[args.metric]\n",
    "    \n",
    "\n",
    "    model.eval()\n",
    "    with torch.no_grad():\n",
    "        valid_loss = []\n",
    "        y_true = []\n",
    "        y_scores = []\n",
    "        for num_iters, data in enumerate(tqdm(valid_loader)):\n",
    "            data.to(args.device)\n",
    "            strats = {'ea': data.edge_attr, \\\n",
    "#                   **{('sym_' + str(k)): data['sym_edge_attr_' + str(k)] for k in range(1, args.k_hop_neighbors + 1)}, \\\n",
    "                 **{('rw_' + str(k)): data['rw_edge_attr_' + str(k)] for k in range(1, args.k_hop_neighbors + 1)}}\n",
    " #            strats = {'ea': data.edge_attr, 'rw': data.rw_edge_attr}\n",
    "            out, _ = model(data.x, data.batch, data.edge_index, strats)\n",
    "        \n",
    "            loss = criterion(out, data.y.float())\n",
    "            valid_loss += [loss.item()]\n",
    "\n",
    "            y_true += [data.y]\n",
    "            y_scores += [out]\n",
    "\n",
    "        input_dict = {\"y_true\": torch.cat(y_true), \"y_pred\": torch.cat(y_scores)}\n",
    "        valid_metric = evaluator.eval(input_dict)[args.metric]\n",
    "        \n",
    "        test_loss = []\n",
    "        y_true = []\n",
    "        y_scores = []\n",
    "        for data in test_loader:\n",
    "            data.to(args.device)\n",
    "            strats = {'ea': data.edge_attr, \\\n",
    "#                   **{('sym_' + str(k)): data['sym_edge_attr_' + str(k)] for k in range(1, args.k_hop_neighbors + 1)}, \\\n",
    "                 **{('rw_' + str(k)): data['rw_edge_attr_' + str(k)] for k in range(1, args.k_hop_neighbors + 1)}}\n",
    "#             strats = {'ea': data.edge_attr, 'rw': data.rw_edge_attr}\n",
    "            out, _ = model(data.x, data.batch, data.edge_index, strats)\n",
    "        \n",
    "            loss = criterion(out, data.y.float())\n",
    "            test_loss += [loss.item()]\n",
    "\n",
    "            y_true += [data.y]\n",
    "            y_scores += [out]\n",
    "\n",
    "        input_dict = {\"y_true\": torch.cat(y_true), \"y_pred\": torch.cat(y_scores)}\n",
    "        test_metric = evaluator.eval(input_dict)[args.metric]\n",
    "\n",
    "    print('Epoch %d: LR: %.5f, Train loss: %.3f Train %s: %.3f Train Adv: %.3f Valid loss: %.3f  Valid %s: %.3f \\\n",
    "        Test loss: %.3f  Test %s: %.3f' \\\n",
    "          % (epoch + 1, optimizer.param_groups[0]['lr'], np.average(train_loss), args.metric, train_metric, \\\n",
    "             np.average(train_adv), np.average(valid_loss), args.metric, valid_metric, \\\n",
    "             np.average(test_loss), args.metric, test_metric))\n",
    "    stats += [[epoch, np.average(train_loss), train_metric, np.average(valid_loss), valid_metric, np.average(test_loss), test_metric]]"
   ]
  },
  {
   "cell_type": "code",
   "execution_count": null,
   "metadata": {},
   "outputs": [],
   "source": []
  },
  {
   "cell_type": "code",
   "execution_count": 10,
   "metadata": {},
   "outputs": [
    {
     "name": "stdout",
     "output_type": "stream",
     "text": [
      "[36.          0.11741311  0.80889089  0.07101434  0.8313982   0.12133697\n",
      "  0.76936017]\n"
     ]
    },
    {
     "data": {
      "image/png": "[encoded data removed]",
      "text/plain": [
       "<Figure size 1080x720 with 6 Axes>"
      ]
     },
     "metadata": {
      "needs_background": "light"
     },
     "output_type": "display_data"
    }
   ],
   "source": [
    "import matplotlib.pyplot as plt\n",
    "labels = ['epoch', 'train_loss', 'train_metric', 'valid_loss', 'valid_metric', 'test_loss', 'test_metric']\n",
    "fig = plt.figure(figsize=(15, 10))\n",
    "stats_np = np.array(stats)\n",
    "best_valid = stats_np[stats_np[:50, 4].argmax()]\n",
    "print(best_valid)\n",
    "for i in range(1, stats_np.shape[-1]):\n",
    "    ax = fig.add_subplot(2, 3, i)\n",
    "    ax.plot(stats_np[:, i], label=labels[i])\n",
    "    ax.scatter(x=best_valid[0], y=best_valid[i], color='red')\n",
    "    ax.annotate(best_valid[i].round(3), xy=(best_valid[0]+5, best_valid[i]), color='red')\n",
    "    ax.legend()\n"
   ]
  },
  {
   "cell_type": "code",
   "execution_count": null,
   "metadata": {},
   "outputs": [],
   "source": []
  }
 ],
 "metadata": {
  "kernelspec": {
   "display_name": "Python 3",
   "language": "python",
   "name": "python3"
  },
  "language_info": {
   "codemirror_mode": {
    "name": "ipython",
    "version": 3
   },
   "file_extension": ".py",
   "mimetype": "text/x-python",
   "name": "python",
   "nbconvert_exporter": "python",
   "pygments_lexer": "ipython3",
   "version": "3.6.9"
  }
 },
 "nbformat": 4,
 "nbformat_minor": 2
}
