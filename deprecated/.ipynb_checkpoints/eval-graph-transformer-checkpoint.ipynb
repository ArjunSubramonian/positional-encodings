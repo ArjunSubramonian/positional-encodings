{
 "cells": [
  {
   "cell_type": "code",
   "execution_count": 1,
   "metadata": {},
   "outputs": [
    {
     "name": "stdout",
     "output_type": "stream",
     "text": [
      "device: cuda:7\n"
     ]
    }
   ],
   "source": [
    "import torch\n",
    "import torch.nn as nn\n",
    "from torch_geometric.data import DataLoader\n",
    "import argparse\n",
    "import numpy as np\n",
    "import random\n",
    "import ogb\n",
    "from ogb.graphproppred import PygGraphPropPredDataset, Evaluator\n",
    "\n",
    "from graph_transformer import GraphTransformerModel\n",
    "from utils import compute_mutual_shortest_distances\n",
    "\n",
    "parser = argparse.ArgumentParser(description='PyTorch implementation of relative positional encodings and relation-aware self-attention for graph Transformers')\n",
    "args = parser.parse_args(\"\")\n",
    "args.device = 7\n",
    "args.device = torch.device('cuda:'+ str(args.device) if torch.cuda.is_available() else 'cpu')\n",
    "# args.device = torch.device('cpu')\n",
    "print(\"device:\", args.device)\n",
    "# torch.cuda.set_device(args.device)\n",
    "\n",
    "torch.manual_seed(0)\n",
    "np.random.seed(0)\n",
    "if torch.cuda.is_available():\n",
    "    torch.cuda.manual_seed_all(0)\n",
    "\n",
    "def set_seed(seed):\n",
    "    torch.manual_seed(seed)\n",
    "    np.random.seed(seed)\n",
    "    random.seed(seed)\n",
    "    if torch.cuda.is_available():\n",
    "        torch.cuda.manual_seed_all(seed)\n",
    "\n",
    "seed = 0\n",
    "set_seed(seed)"
   ]
  },
  {
   "cell_type": "code",
   "execution_count": 2,
   "metadata": {},
   "outputs": [],
   "source": [
    "## embed_dim // num_heads should remain constant\n",
    "args.dataset = 'ogbg-molhiv'\n",
    "args.n_classes = 1\n",
    "args.batch_size = 2\n",
    "args.graph_pooling = 'mean'\n",
    "args.proj_mode = 'nonlinear'\n",
    "args.eval_metric = 'rocauc'\n",
    "args.embed_dim = 320\n",
    "args.ff_embed_dim = 640\n",
    "args.num_heads = 8\n",
    "args.graph_layers = 4\n",
    "args.dropout = 0.4\n",
    "args.relation_type = 'shortest_dist'\n",
    "args.pre_transform = compute_mutual_shortest_distances\n",
    "args.max_vocab = 12\n",
    "args.split = 'scaffold'\n",
    "args.weights_dropout = True\n",
    "args.saved_model = './models/model_172_ogbg-molhiv_lr5e-05.pth'\n",
    "args.k_hop_neighbors = 2\n",
    "args.weight_decay = 0.01"
   ]
  },
  {
   "cell_type": "code",
   "execution_count": 3,
   "metadata": {},
   "outputs": [
    {
     "name": "stdout",
     "output_type": "stream",
     "text": [
      "Loading data...\n",
      "dataset: ogbg-molhiv \n",
      "Test loss: 0.2049240654027298\n",
      "Test ROC-AUC: 0.7768689873662249\n"
     ]
    }
   ],
   "source": [
    "print(\"Loading data...\")\n",
    "print(\"dataset: {} \".format(args.dataset))\n",
    "dataset = PygGraphPropPredDataset(name=args.dataset, pre_transform=args.pre_transform)\n",
    "\n",
    "split_idx = dataset.get_idx_split()\n",
    "if args.split == 'scaffold':\n",
    "    test_loader = DataLoader(dataset[split_idx[\"test\"]], batch_size=args.batch_size, shuffle=False, drop_last=True)\n",
    "elif args.split == '80-20':\n",
    "    test_loader = DataLoader(dataset[int(0.8 * len(dataset)):], batch_size=args.batch_size, shuffle=False, drop_last=True)\n",
    "\n",
    "model = GraphTransformerModel(args)\n",
    "# Remove `module` artifact from using DistributedDataPrallel\n",
    "state_dict = torch.load(args.saved_model)\n",
    "from collections import OrderedDict\n",
    "new_state_dict = OrderedDict()\n",
    "for k, v in state_dict.items():\n",
    "    name = k[7:] # remove `module.`\n",
    "    new_state_dict[name] = v\n",
    "# load params\n",
    "model.load_state_dict(new_state_dict)\n",
    "model = model.to(args.device)\n",
    "\n",
    "criterion = torch.nn.BCEWithLogitsLoss(reduction = \"mean\")\n",
    "evaluator = Evaluator(name=args.dataset)\n",
    "    \n",
    "##############\n",
    "# EVALUATION #\n",
    "##############\n",
    "\n",
    "model.eval()\n",
    "\n",
    "with torch.no_grad():\n",
    "    loss_epoch = 0\n",
    "    y_true = []\n",
    "    y_scores = []\n",
    "    for idx, batch in enumerate(test_loader):\n",
    "        z = model(batch.to(args.device))\n",
    "\n",
    "        y = batch.y.float()\n",
    "        y_true.append(y)\n",
    "        y_scores.append(z)\n",
    "        is_valid = ~torch.isnan(y)\n",
    "\n",
    "        loss = criterion(z[is_valid], y[is_valid])\n",
    "        loss_epoch += loss.item()\n",
    "\n",
    "    y_true = torch.cat(y_true, dim = 0)\n",
    "    y_scores = torch.cat(y_scores, dim = 0)\n",
    "\n",
    "input_dict = {\"y_true\": y_true, \"y_pred\": y_scores}\n",
    "result_dict = evaluator.eval(input_dict)\n",
    "print('Test loss:', loss_epoch / len(test_loader))\n",
    "print('Test ROC-AUC:', result_dict[args.eval_metric])"
   ]
  }
 ],
 "metadata": {
  "kernelspec": {
   "display_name": "Python 3",
   "language": "python",
   "name": "python3"
  },
  "language_info": {
   "codemirror_mode": {
    "name": "ipython",
    "version": 3
   },
   "file_extension": ".py",
   "mimetype": "text/x-python",
   "name": "python",
   "nbconvert_exporter": "python",
   "pygments_lexer": "ipython3",
   "version": "3.6.10"
  }
 },
 "nbformat": 4,
 "nbformat_minor": 2
}
