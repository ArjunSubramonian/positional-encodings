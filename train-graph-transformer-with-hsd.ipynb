{
 "cells": [
  {
   "cell_type": "code",
   "execution_count": 1,
   "metadata": {},
   "outputs": [],
   "source": [
    "%load_ext autoreload\n",
    "%autoreload 2\n",
    "import networkx as nx\n",
    "\n",
    "import os\n",
    "os.environ[\"CUDA_DEVICE_ORDER\"]=\"PCI_BUS_ID\"\n",
    "os.environ[\"CUDA_VISIBLE_DEVICES\"]=\"3\"\n",
    "\n",
    "import torch\n",
    "import torch.nn as nn\n",
    "from torch_geometric.data import DataLoader\n",
    "import argparse\n",
    "import numpy as np\n",
    "import random\n",
    "import ogb\n",
    "from ogb.graphproppred import PygGraphPropPredDataset, Evaluator\n",
    "from graph_transformer import GT\n",
    "from utils import pre_process, pre_process_with_summary, get_n_params, get_optimizer\n",
    "import datetime\n",
    "from tqdm import tqdm\n",
    "from tensorboardX import SummaryWriter\n",
    "import pytz\n"
   ]
  },
  {
   "cell_type": "code",
   "execution_count": 2,
   "metadata": {},
   "outputs": [
    {
     "name": "stdout",
     "output_type": "stream",
     "text": [
      "device: cuda\n"
     ]
    }
   ],
   "source": [
    "parser = argparse.ArgumentParser(description='PyTorch implementation of relative positional encodings and relation-aware self-attention for graph Transformers')\n",
    "args = parser.parse_args(\"\")\n",
    "\n",
    "args.dataset = 'ogbg-molbace'\n",
    "args.n_classes = 1\n",
    "args.lr = 2e-4\n",
    "args.n_hid = 512\n",
    "args.n_heads = 8\n",
    "args.n_layer = 4\n",
    "args.dropout = 0.2\n",
    "args.num_epochs = 10\n",
    "args.k_hop_neighbors = 3\n",
    "args.weight_decay = 1e-2\n",
    "args.bsz      = 128\n",
    "args.strategies = ['hsd', 'sd', 'ea', 'cn']\n",
    "args.summary_node = False\n",
    "args.hier_levels = 3\n",
    "args.device = torch.device('cuda' if torch.cuda.is_available() else 'cpu')\n",
    "print(\"device:\", args.device)"
   ]
  },
  {
   "cell_type": "code",
   "execution_count": 3,
   "metadata": {},
   "outputs": [
    {
     "name": "stdout",
     "output_type": "stream",
     "text": [
      "Loading data...\n",
      "dataset: ogbg-molbace \n"
     ]
    }
   ],
   "source": [
    "print(\"Loading data...\")\n",
    "print(\"dataset: {} \".format(args.dataset))\n",
    "tz = pytz.timezone('US/Pacific')\n",
    "time_now = datetime.datetime.now(tz).strftime('%m-%d_%H:%M:%S')\n",
    "\n",
    "if args.summary_node:\n",
    "    pre_transform = lambda d : pre_process_with_summary(d, args)\n",
    "    root_path= f'dataset/with_summary_{args.k_hop_neighbors}'\n",
    "    args.writer = SummaryWriter(log_dir=f'runs_new/{args.dataset}/with_summary_k={args.k_hop_neighbors}/strats={\"-\".join(args.strategies)}/{time_now}')\n",
    "\n",
    "else:\n",
    "    pre_transform = lambda d : pre_process(d, args)\n",
    "    root_path= f'dataset/{args.k_hop_neighbors}'\n",
    "    args.writer = SummaryWriter(log_dir=f'runs_new/{args.dataset}/k={args.k_hop_neighbors}/strats={\"-\".join(args.strategies)}/{time_now}')\n",
    "    \n",
    "    \n",
    "dataset = PygGraphPropPredDataset(name=args.dataset, pre_transform=pre_transform, root = root_path)\n",
    "evaluator = Evaluator(name=args.dataset)\n",
    "split_idx = dataset.get_idx_split()\n",
    "edge_dim_dict = {'ea': dataset.data.edge_attr.max(dim=0)[0].int().view(-1) + 1, \\\n",
    "                 'sd': (dataset.data.sd_edge_attr.max(dim=0)[0].int().view(-1) + 1).tolist(), \\\n",
    "                 'cn': (dataset.data.cn_edge_attr.max(dim=0)[0].int().view(-1) + 1).tolist(), \\\n",
    "                 'hsd': (dataset.data.hsd_edge_attr.max(dim=0)[0].int().view(-1) + 1).tolist()}\n",
    "model = GT(args.n_hid, args.n_classes, args.n_heads, args.n_layer, edge_dim_dict, args.dropout, args.summary_node).to(args.device)"
   ]
  },
  {
   "cell_type": "code",
   "execution_count": 4,
   "metadata": {},
   "outputs": [],
   "source": [
    "# Regular loader\n",
    "# train_loader = DataLoader(dataset[split_idx[\"train\"]], batch_size=args.bsz, shuffle=True)\n",
    "# valid_loader = DataLoader(dataset[split_idx[\"valid\"]], batch_size=args.bsz, shuffle=False)\n",
    "# test_loader  = DataLoader(dataset[split_idx[\"test\"]],  batch_size=args.bsz, shuffle=False)"
   ]
  },
  {
   "cell_type": "code",
   "execution_count": 5,
   "metadata": {},
   "outputs": [],
   "source": [
    "# Loader with weighted sampler, for unbalanced data\n",
    "\n",
    "from torch.utils.data import WeightedRandomSampler\n",
    "weight = [1.0, np.sqrt((dataset.data.y == 0).sum().item() / (dataset.data.y == 1).sum().item())]\n",
    "samples_weight = np.array([weight[yi] for yi in dataset.data.y.view(-1)[split_idx[\"train\"]]])\n",
    "\n",
    "samples_weight = torch.from_numpy(samples_weight)\n",
    "samples_weigth = samples_weight.double()\n",
    "sampler = WeightedRandomSampler(samples_weight, len(samples_weight))\n",
    "\n",
    "train_loader = DataLoader(dataset[split_idx[\"train\"]], batch_size=args.bsz, sampler = sampler)\n",
    "valid_loader = DataLoader(dataset[split_idx[\"valid\"]], batch_size=args.bsz, shuffle = False)\n",
    "test_loader  = DataLoader(dataset[split_idx[\"test\"]],  batch_size=args.bsz, shuffle = False)"
   ]
  },
  {
   "cell_type": "code",
   "execution_count": 6,
   "metadata": {},
   "outputs": [
    {
     "name": "stdout",
     "output_type": "stream",
     "text": [
      "Model #Params: 8571905\n"
     ]
    }
   ],
   "source": [
    "print('Model #Params: %d' % get_n_params(model))\n",
    "\n",
    "criterion = torch.nn.BCEWithLogitsLoss(reduction = \"mean\")\n",
    "\n",
    "optimizer = get_optimizer(model, weight_decay = args.weight_decay)\n",
    "\n",
    "scheduler = torch.optim.lr_scheduler.OneCycleLR(optimizer, max_lr=args.lr, pct_start = 0.05,\\\n",
    "        steps_per_epoch=len(train_loader), epochs = args.num_epochs, anneal_strategy = 'linear')"
   ]
  },
  {
   "cell_type": "code",
   "execution_count": 7,
   "metadata": {
    "scrolled": true
   },
   "outputs": [
    {
     "name": "stderr",
     "output_type": "stream",
     "text": [
      "100%|██████████| 10/10 [00:03<00:00,  2.72it/s]\n",
      "100%|██████████| 2/2 [00:00<00:00,  4.64it/s]\n",
      "  0%|          | 0/10 [00:00<?, ?it/s]"
     ]
    },
    {
     "name": "stdout",
     "output_type": "stream",
     "text": [
      "Epoch 1: LR: 0.00019, Train loss: 0.711 Valid loss: 0.854  Valid ROC-AUC: 0.632 Test loss: 0.993  Test ROC-AUC: 0.672\n"
     ]
    },
    {
     "name": "stderr",
     "output_type": "stream",
     "text": [
      "100%|██████████| 10/10 [00:02<00:00,  3.35it/s]\n",
      "100%|██████████| 2/2 [00:00<00:00,  9.56it/s]\n",
      "  0%|          | 0/10 [00:00<?, ?it/s]"
     ]
    },
    {
     "name": "stdout",
     "output_type": "stream",
     "text": [
      "Epoch 2: LR: 0.00017, Train loss: 0.687 Valid loss: 0.671  Valid ROC-AUC: 0.658 Test loss: 0.663  Test ROC-AUC: 0.669\n"
     ]
    },
    {
     "name": "stderr",
     "output_type": "stream",
     "text": [
      "100%|██████████| 10/10 [00:02<00:00,  3.59it/s]\n",
      "100%|██████████| 2/2 [00:00<00:00,  9.69it/s]\n",
      "  0%|          | 0/10 [00:00<?, ?it/s]"
     ]
    },
    {
     "name": "stdout",
     "output_type": "stream",
     "text": [
      "Epoch 3: LR: 0.00015, Train loss: 0.622 Valid loss: 1.011  Valid ROC-AUC: 0.630 Test loss: 1.278  Test ROC-AUC: 0.671\n"
     ]
    },
    {
     "name": "stderr",
     "output_type": "stream",
     "text": [
      "100%|██████████| 10/10 [00:02<00:00,  3.53it/s]\n",
      "100%|██████████| 2/2 [00:00<00:00, 10.71it/s]\n",
      "  0%|          | 0/10 [00:00<?, ?it/s]"
     ]
    },
    {
     "name": "stdout",
     "output_type": "stream",
     "text": [
      "Epoch 4: LR: 0.00012, Train loss: 0.640 Valid loss: 0.988  Valid ROC-AUC: 0.603 Test loss: 1.290  Test ROC-AUC: 0.666\n"
     ]
    },
    {
     "name": "stderr",
     "output_type": "stream",
     "text": [
      "100%|██████████| 10/10 [00:02<00:00,  3.40it/s]\n",
      "100%|██████████| 2/2 [00:00<00:00,  9.51it/s]\n",
      "  0%|          | 0/10 [00:00<?, ?it/s]"
     ]
    },
    {
     "name": "stdout",
     "output_type": "stream",
     "text": [
      "Epoch 5: LR: 0.00010, Train loss: 0.592 Valid loss: 0.720  Valid ROC-AUC: 0.597 Test loss: 0.869  Test ROC-AUC: 0.660\n"
     ]
    },
    {
     "name": "stderr",
     "output_type": "stream",
     "text": [
      "100%|██████████| 10/10 [00:02<00:00,  3.45it/s]\n",
      "100%|██████████| 2/2 [00:00<00:00,  9.77it/s]\n",
      "  0%|          | 0/10 [00:00<?, ?it/s]"
     ]
    },
    {
     "name": "stdout",
     "output_type": "stream",
     "text": [
      "Epoch 6: LR: 0.00008, Train loss: 0.566 Valid loss: 0.760  Valid ROC-AUC: 0.649 Test loss: 0.958  Test ROC-AUC: 0.685\n"
     ]
    },
    {
     "name": "stderr",
     "output_type": "stream",
     "text": [
      "100%|██████████| 10/10 [00:02<00:00,  3.66it/s]\n",
      "100%|██████████| 2/2 [00:00<00:00,  9.02it/s]\n",
      "  0%|          | 0/10 [00:00<?, ?it/s]"
     ]
    },
    {
     "name": "stdout",
     "output_type": "stream",
     "text": [
      "Epoch 7: LR: 0.00006, Train loss: 0.573 Valid loss: 0.748  Valid ROC-AUC: 0.664 Test loss: 0.954  Test ROC-AUC: 0.688\n"
     ]
    },
    {
     "name": "stderr",
     "output_type": "stream",
     "text": [
      "100%|██████████| 10/10 [00:02<00:00,  3.43it/s]\n",
      "100%|██████████| 2/2 [00:00<00:00,  9.73it/s]\n",
      "  0%|          | 0/10 [00:00<?, ?it/s]"
     ]
    },
    {
     "name": "stdout",
     "output_type": "stream",
     "text": [
      "Epoch 8: LR: 0.00004, Train loss: 0.541 Valid loss: 0.727  Valid ROC-AUC: 0.635 Test loss: 0.932  Test ROC-AUC: 0.677\n"
     ]
    },
    {
     "name": "stderr",
     "output_type": "stream",
     "text": [
      "100%|██████████| 10/10 [00:03<00:00,  3.28it/s]\n",
      "100%|██████████| 2/2 [00:00<00:00,  9.67it/s]\n",
      "  0%|          | 0/10 [00:00<?, ?it/s]"
     ]
    },
    {
     "name": "stdout",
     "output_type": "stream",
     "text": [
      "Epoch 9: LR: 0.00002, Train loss: 0.556 Valid loss: 0.852  Valid ROC-AUC: 0.648 Test loss: 1.199  Test ROC-AUC: 0.692\n"
     ]
    },
    {
     "name": "stderr",
     "output_type": "stream",
     "text": [
      "100%|██████████| 10/10 [00:02<00:00,  3.53it/s]\n",
      "100%|██████████| 2/2 [00:00<00:00,  9.61it/s]\n"
     ]
    },
    {
     "name": "stdout",
     "output_type": "stream",
     "text": [
      "Epoch 10: LR: -0.00000, Train loss: 0.529 Valid loss: 0.854  Valid ROC-AUC: 0.656 Test loss: 1.203  Test ROC-AUC: 0.702\n"
     ]
    }
   ],
   "source": [
    "stats = []\n",
    "for epoch in range(args.num_epochs):\n",
    "    model.train()\n",
    "    train_loss = []\n",
    "    for num_iters, data in enumerate(tqdm(train_loader)):\n",
    "        data.to(args.device)\n",
    "        strats = {'ea': data.edge_attr, 'cn': data.cn_edge_attr, 'sd': data.sd_edge_attr, 'hsd': data.hsd_edge_attr.long()}\n",
    "        out = model(data.x, data.batch, data.edge_index, strats)\n",
    "        loss = criterion(out, data.y.float())\n",
    "        loss.backward()\n",
    "        torch.nn.utils.clip_grad_norm_(model.parameters(), 1.0)\n",
    "        \n",
    "        optimizer.step()\n",
    "        optimizer.zero_grad()\n",
    "        scheduler.step()\n",
    "        \n",
    "        train_loss += [loss.item()]\n",
    "        \n",
    "    args.writer.add_scalar(\"LR/epoch\", optimizer.param_groups[0]['lr'], epoch + 1)\n",
    "    args.writer.add_scalar(\"Loss/train\", np.average(train_loss), epoch + 1)\n",
    "\n",
    "    model.eval()\n",
    "    with torch.no_grad():\n",
    "        valid_loss = []\n",
    "        y_true = []\n",
    "        y_scores = []\n",
    "        for num_iters, data in enumerate(tqdm(valid_loader)):\n",
    "            data.to(args.device)\n",
    "            strats = {'ea': data.edge_attr, 'cn': data.cn_edge_attr, 'sd': data.sd_edge_attr, 'hsd': data.hsd_edge_attr.long()}\n",
    "            out = model(data.x, data.batch, data.edge_index, strats)\n",
    "        \n",
    "            loss = criterion(out, data.y.float())\n",
    "            valid_loss += [loss.item()]\n",
    "\n",
    "            y_true += [data.y]\n",
    "            y_scores += [out]\n",
    "\n",
    "        input_dict = {\"y_true\": torch.cat(y_true), \"y_pred\": torch.cat(y_scores)}\n",
    "        valid_rocauc = evaluator.eval(input_dict)['rocauc']\n",
    "        args.writer.add_scalar(\"Loss/valid\", np.average(valid_loss), epoch + 1)\n",
    "        args.writer.add_scalar(\"ROC/valid\", valid_rocauc, epoch + 1)\n",
    "        \n",
    "        test_loss = []\n",
    "        y_true = []\n",
    "        y_scores = []\n",
    "        for data in test_loader:\n",
    "            data.to(args.device)\n",
    "            strats = {'ea': data.edge_attr, 'cn': data.cn_edge_attr, 'sd': data.sd_edge_attr, 'hsd': data.hsd_edge_attr.long()}\n",
    "            out = model(data.x, data.batch, data.edge_index, strats)\n",
    "        \n",
    "            loss = criterion(out, data.y.float())\n",
    "            test_loss += [loss.item()]\n",
    "\n",
    "            y_true += [data.y]\n",
    "            y_scores += [out]\n",
    "\n",
    "        input_dict = {\"y_true\": torch.cat(y_true), \"y_pred\": torch.cat(y_scores)}\n",
    "        test_rocauc = evaluator.eval(input_dict)['rocauc']\n",
    "        args.writer.add_scalar(\"Loss/test\", np.average(test_loss), epoch + 1)\n",
    "        args.writer.add_scalar(\"ROC/test\", test_rocauc, epoch + 1)\n",
    "    \n",
    "    print('Epoch %d: LR: %.5f, Train loss: %.3f Valid loss: %.3f  Valid ROC-AUC: %.3f Test loss: %.3f  Test ROC-AUC: %.3f' \\\n",
    "          % (epoch + 1, optimizer.param_groups[0]['lr'], np.average(train_loss), np.average(valid_loss), \\\n",
    "            valid_rocauc, np.average(test_loss), test_rocauc))\n",
    "    stats += [[epoch, np.average(train_loss), np.average(valid_loss), valid_rocauc, np.average(test_loss), test_rocauc]]\n",
    "\n",
    "args.writer.close()"
   ]
  },
  {
   "cell_type": "code",
   "execution_count": 8,
   "metadata": {},
   "outputs": [
    {
     "name": "stdout",
     "output_type": "stream",
     "text": [
      "[6.         0.57300374 0.74760404 0.66410256 0.95413649 0.68788037]\n"
     ]
    },
    {
     "data": {
      "image/png": "[encoded data removed]",
      "text/plain": [
       "<Figure size 1080x720 with 5 Axes>"
      ]
     },
     "metadata": {
      "needs_background": "light"
     },
     "output_type": "display_data"
    }
   ],
   "source": [
    "import matplotlib.pyplot as plt\n",
    "labels = ['epoch', 'train_loss', 'valid_loss', 'valid_rocauc', 'test_loss', 'test_rocauc']\n",
    "fig = plt.figure(figsize=(15, 10))\n",
    "stats_np = np.array(stats)\n",
    "best_valid = stats_np[stats_np[:, 3].argmax()]\n",
    "print(best_valid)\n",
    "for i in range(1, stats_np.shape[-1]):\n",
    "    ax = fig.add_subplot(2, 3, i)\n",
    "    ax.plot(stats_np[:, i], label=labels[i])\n",
    "    ax.scatter(x=best_valid[0], y=best_valid[i], color='red')\n",
    "    ax.annotate(text=best_valid[i].round(3), xy=(best_valid[0]+5, best_valid[i]), color='red')\n",
    "    ax.legend()\n"
   ]
  },
  {
   "cell_type": "code",
   "execution_count": null,
   "metadata": {},
   "outputs": [],
   "source": []
  }
 ],
 "metadata": {
  "kernelspec": {
   "display_name": "Python 3",
   "language": "python",
   "name": "python3"
  },
  "language_info": {
   "codemirror_mode": {
    "name": "ipython",
    "version": 3
   },
   "file_extension": ".py",
   "mimetype": "text/x-python",
   "name": "python",
   "nbconvert_exporter": "python",
   "pygments_lexer": "ipython3",
   "version": "3.6.9"
  }
 },
 "nbformat": 4,
 "nbformat_minor": 2
}
